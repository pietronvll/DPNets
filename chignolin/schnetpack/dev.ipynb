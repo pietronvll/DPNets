{
 "cells": [
  {
   "cell_type": "code",
   "execution_count": 1,
   "metadata": {},
   "outputs": [
    {
     "name": "stderr",
     "output_type": "stream",
     "text": [
      "/home/pnovelli/miniforge3/envs/schnetpack/lib/python3.11/site-packages/tqdm/auto.py:21: TqdmWarning: IProgress not found. Please update jupyter and ipywidgets. See https://ipywidgets.readthedocs.io/en/stable/user_install.html\n",
      "  from .autonotebook import tqdm as notebook_tqdm\n",
      "/home/pnovelli/miniforge3/envs/schnetpack/lib/python3.11/site-packages/MDAnalysis/topology/TPRParser.py:161: DeprecationWarning: 'xdrlib' is deprecated and slated for removal in Python 3.13\n",
      "  import xdrlib\n"
     ]
    }
   ],
   "source": [
    "import matplotlib.pyplot as plt\n",
    "import pnstyler.styler as styler\n",
    "from data_preprocess import trajectory_to_ase_atoms, preprocess_asedb\n",
    "import ml_confs"
   ]
  },
  {
   "cell_type": "code",
   "execution_count": 2,
   "metadata": {},
   "outputs": [],
   "source": [
    "configs = {\n",
    "    'topology_path': '/media/data/pnovelli/md_datasets/chignolin-unbiased/CLN025-0-protein.pdb',\n",
    "    'trajectory_path': '/media/data/pnovelli/md_datasets/chignolin-unbiased/CLN025-0-protein-ALL.dcd',\n",
    "    'selection': 'backbone',\n",
    "    'data_path': '/home/pnovelli/code/dp_examples/chignolin/schnetpack/data'\n",
    "}\n",
    "configs = ml_confs.from_dict(configs)"
   ]
  },
  {
   "cell_type": "code",
   "execution_count": 6,
   "metadata": {},
   "outputs": [
    {
     "name": "stderr",
     "output_type": "stream",
     "text": [
      "/home/pnovelli/miniforge3/envs/schnetpack/lib/python3.11/site-packages/MDAnalysis/coordinates/DCD.py:165: DeprecationWarning: DCDReader currently makes independent timesteps by copying self.ts while other readers update self.ts inplace. This behavior will be changed in 3.0 to be the same as other readers. Read more at https://github.com/MDAnalysis/mdanalysis/issues/3889 to learn if this change in behavior might affect you.\n",
      "  warnings.warn(\"DCDReader currently makes independent timesteps\"\n",
      "Parsing DCD file to ASE atoms:   0%|          | 0/524743 [00:00<?, ?it/s]"
     ]
    },
    {
     "name": "stderr",
     "output_type": "stream",
     "text": [
      "Parsing DCD file to ASE atoms: 100%|██████████| 524743/524743 [03:54<00:00, 2235.36it/s]\n",
      "INFO:root:Adding systems to ASE database\n",
      "INFO:root:Done!\n"
     ]
    }
   ],
   "source": [
    "#trajectory_to_ase_atoms(configs)"
   ]
  },
  {
   "cell_type": "code",
   "execution_count": 4,
   "metadata": {},
   "outputs": [
    {
     "name": "stderr",
     "output_type": "stream",
     "text": [
      "INFO:root:Loaded 524743 frames from /home/pnovelli/code/dp_examples/chignolin/schnetpack/data/CLN025-0-protein_backbone.db.\n",
      "  0%|          | 0/524743 [00:00<?, ?it/s]"
     ]
    },
    {
     "name": "stderr",
     "output_type": "stream",
     "text": [
      " 27%|██▋       | 142689/524743 [08:58<22:48, 279.19it/s]"
     ]
    }
   ],
   "source": [
    "cutoff = 10.\n",
    "preprocess_asedb(cutoff, '/home/pnovelli/code/dp_examples/chignolin/schnetpack/data/CLN025-0-protein_backbone.db')"
   ]
  },
  {
   "cell_type": "code",
   "execution_count": null,
   "metadata": {},
   "outputs": [],
   "source": []
  }
 ],
 "metadata": {
  "kernelspec": {
   "display_name": "schnetpack",
   "language": "python",
   "name": "python3"
  },
  "language_info": {
   "codemirror_mode": {
    "name": "ipython",
    "version": 3
   },
   "file_extension": ".py",
   "mimetype": "text/x-python",
   "name": "python",
   "nbconvert_exporter": "python",
   "pygments_lexer": "ipython3",
   "version": "3.11.6"
  }
 },
 "nbformat": 4,
 "nbformat_minor": 2
}
