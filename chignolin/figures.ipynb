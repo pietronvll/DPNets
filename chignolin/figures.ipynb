{
 "cells": [
  {
   "cell_type": "markdown",
   "metadata": {},
   "source": [
    "# Comparing DPNets to Nyström PCR/RRR"
   ]
  },
  {
   "cell_type": "code",
   "execution_count": 1,
   "metadata": {},
   "outputs": [],
   "source": [
    "#General imports\n",
    "import os\n",
    "from pathlib import Path\n",
    "import pickle\n",
    "data_path = Path('data/')\n",
    "from kooplearn._src.utils import topk\n",
    "import numpy as np\n",
    "from tabulate import tabulate\n",
    "import matplotlib.pyplot as plt\n",
    "import scienceplots\n",
    "from KDEpy import FFTKDE\n",
    "\n",
    "plt.style.use(['science', 'no-latex', 'std-colors'])\n",
    "plt.rcParams['figure.dpi'] = 200\n",
    "plt.rcParams['font.size'] = 8\n",
    "plt.rcParams['axes.labelsize'] = 8\n",
    "plt.rcParams['xtick.labelsize'] = 7\n",
    "plt.rcParams['ytick.labelsize'] = 7"
   ]
  },
  {
   "cell_type": "code",
   "execution_count": 25,
   "metadata": {},
   "outputs": [],
   "source": [
    "def pt_to_inch(pt):\n",
    "    return pt/72.27\n",
    "\n",
    "def figsize(wratio = 1, width_to_height = 3/2, text_width_pt = 397):\n",
    "    w = pt_to_inch(text_width_pt)*wratio\n",
    "    h = w/width_to_height\n",
    "    return (w,h)\n",
    "\n",
    "def sort_evd(evals, left_fns, right_fns):\n",
    "    top_evals = topk(evals, len(evals))\n",
    "\n",
    "    return np.where(top_evals.values > 0, top_evals.values, 0), left_fns[:, top_evals.indices], right_fns[:, top_evals.indices]\n",
    "\n",
    "def implied_timescales(eigvals, lagtime = 0.2):\n",
    "    return -lagtime/(np.log(np.abs(eigvals)))"
   ]
  },
  {
   "cell_type": "markdown",
   "metadata": {},
   "source": [
    "## Loading DPNets Checkpoint"
   ]
  },
  {
   "cell_type": "code",
   "execution_count": 3,
   "metadata": {},
   "outputs": [],
   "source": [
    "# Wrap the old code into kooplearn\n",
    "import torch\n",
    "import schnetpack\n",
    "from kooplearn.models import DMD\n",
    "from kooplearn.data import traj_to_contexts\n",
    "import numpy as np\n",
    "import matplotlib.pyplot as plt\n",
    "\n",
    "class Namespace:\n",
    "    def __init__(self, d):\n",
    "        for k, v in d.items():\n",
    "            if isinstance(v, dict):\n",
    "                setattr(self, k, Namespace(v))\n",
    "            else:\n",
    "                setattr(self, k, v)\n",
    "#Hardcoded configs              \n",
    "configs = Namespace({\n",
    "    'data': {\n",
    "        'cutoff': 5\n",
    "    },\n",
    "    'network': {\n",
    "        'n_rbf': 20,\n",
    "        'n_atom_basis': 64,\n",
    "        'n_final_features': 16,\n",
    "        'n_interactions': 3\n",
    "    }\n",
    "})\n",
    "\n",
    "class SchNet(schnetpack.model.AtomisticModel):\n",
    "    def __init__(self, configs: Namespace):\n",
    "        super().__init__(\n",
    "            input_dtype_str=\"float32\",\n",
    "            postprocessors=None,\n",
    "            do_postprocessing=False,\n",
    "        )\n",
    "        self.cutoff = configs.data.cutoff\n",
    "        self.pwise_dist = schnetpack.atomistic.PairwiseDistances()\n",
    "        self.radial_basis = schnetpack.nn.GaussianRBF(n_rbf=configs.network.n_rbf, cutoff=self.cutoff)\n",
    "        self.net = schnetpack.representation.SchNet(\n",
    "            n_atom_basis=configs.network.n_atom_basis, \n",
    "            n_interactions=configs.network.n_interactions,\n",
    "            radial_basis=self.radial_basis,\n",
    "            cutoff_fn=schnetpack.nn.CosineCutoff(self.cutoff)\n",
    "        )\n",
    "        self.final_lin = torch.nn.Linear(configs.network.n_atom_basis, configs.network.n_final_features)\n",
    "        self.batch_norm = torch.nn.BatchNorm1d(configs.network.n_final_features, affine=False)\n",
    "    def forward(self, inputs: dict[str, torch.Tensor]) -> dict[str, torch.Tensor]:\n",
    "        inputs = self.pwise_dist(inputs)\n",
    "        inputs = self.net(inputs)\n",
    "        inputs['scalar_representation'] = self.final_lin(inputs['scalar_representation'])\n",
    "        return inputs['scalar_representation']"
   ]
  },
  {
   "cell_type": "code",
   "execution_count": 4,
   "metadata": {},
   "outputs": [],
   "source": [
    "db_path = data_path / 'CLN025-0-protein-ALL.db'\n",
    "cache_path = data_path / 'cache'\n",
    "nb_list_transform = schnetpack.transform.CachedNeighborList(cache_path, schnetpack.transform.MatScipyNeighborList(cutoff=configs.data.cutoff), keep_cache=True)\n",
    "in_transforms = [schnetpack.transform.CastTo32(), nb_list_transform]\n",
    "dataset = schnetpack.data.ASEAtomsData(str(db_path), transforms=in_transforms)\n",
    "dataloader = schnetpack.data.AtomsLoader(dataset, num_workers=2, persistent_workers=True, batch_size = 1, shuffle=False)"
   ]
  },
  {
   "cell_type": "code",
   "execution_count": 5,
   "metadata": {},
   "outputs": [
    {
     "data": {
      "text/plain": [
       "<All keys matched successfully>"
      ]
     },
     "execution_count": 5,
     "metadata": {},
     "output_type": "execute_result"
    }
   ],
   "source": [
    "# Restoring checkpoint\n",
    "state_dict = torch.load('schnet_model_ckpt.pt')\n",
    "model = SchNet(configs)\n",
    "model.load_state_dict(state_dict)"
   ]
  },
  {
   "cell_type": "code",
   "execution_count": 6,
   "metadata": {},
   "outputs": [],
   "source": [
    "# Pre-Compute pwise distances\n",
    "from tqdm import tqdm\n",
    "features = []\n",
    "model.eval()\n",
    "chunk_idx = 0\n",
    "chunk_size = 20000\n",
    "if False:\n",
    "    for batch_idx, batch in tqdm(enumerate(dataloader), total=len(dataloader)):\n",
    "        with torch.no_grad():\n",
    "            feats = model(batch)\n",
    "        features.append(feats)\n",
    "        if (batch_idx + 1) % chunk_size == 0:\n",
    "            features = torch.stack(features, dim=0)\n",
    "            torch.save(features, f'data/schnet_feats/chunk_{chunk_idx}.pt')\n",
    "            features = []\n",
    "            chunk_idx += 1\n",
    "    features = torch.stack(features, dim=0)\n",
    "    torch.save(features, f'data/schnet_feats/chunk_{chunk_idx}.pt')"
   ]
  },
  {
   "cell_type": "code",
   "execution_count": 7,
   "metadata": {},
   "outputs": [],
   "source": [
    "#Load the features back to memory\n",
    "num_chunks = len(os.listdir(\"data/schnet_feats\"))\n",
    "features = []\n",
    "for i in range(num_chunks):\n",
    "    features.append(torch.load(f'data/schnet_feats/chunk_{i}.pt'))\n",
    "features = torch.cat(features, dim=0)\n",
    "#Use mean embedding as a pooling strategy\n",
    "mean_embedding = torch.mean(features, dim=1)\n",
    "mean_embedding = mean_embedding.numpy()"
   ]
  },
  {
   "cell_type": "code",
   "execution_count": 26,
   "metadata": {},
   "outputs": [
    {
     "name": "stdout",
     "output_type": "stream",
     "text": [
      "Fitted DMD model. Lookback length set to 1\n"
     ]
    }
   ],
   "source": [
    "#Init report\n",
    "report = {}\n",
    "# Transfer operator fitting\n",
    "contexts = traj_to_contexts(mean_embedding)\n",
    "dmd_model = DMD(reduced_rank = False, rank = 16)\n",
    "dmd_model = dmd_model.fit(contexts)\n",
    "#Computing eigenvalue decomposition:\n",
    "data = np.expand_dims(mean_embedding, 1) # (num_samples, 1, num_features)\n",
    "eig, lf, rf = dmd_model.eig(eval_left_on = data, eval_right_on = data)\n",
    "eig, lf, rf = sort_evd(eig, lf, rf)\n",
    "#Populate report\n",
    "report['DPNets'] = {\n",
    "    'eigenvalues': eig,\n",
    "    'left_fns': lf,\n",
    "    'right_fns': rf\n",
    "}\n",
    "#Nystrom\n",
    "for fname in os.listdir(data_path / 'nystrom_evd'):\n",
    "    stub = fname.split('_')[0]\n",
    "    with open(data_path / 'nystrom_evd' / fname, 'rb') as f:\n",
    "        restored_obj = pickle.load(f)\n",
    "        eig = restored_obj['eigenvalues']\n",
    "        lf = restored_obj['left_eigenfunctions']\n",
    "        rf = restored_obj['right_eigenfunctions']\n",
    "    eig, lf, rf = sort_evd(eig, lf, rf)\n",
    "    report[\"Nys-\" + stub] = {\n",
    "        'eigenvalues': eig,\n",
    "        'left_fns': lf,\n",
    "        'right_fns': rf\n",
    "    }"
   ]
  },
  {
   "cell_type": "markdown",
   "metadata": {},
   "source": [
    "## Pretty print eigenvalues"
   ]
  },
  {
   "cell_type": "code",
   "execution_count": 28,
   "metadata": {},
   "outputs": [
    {
     "name": "stderr",
     "output_type": "stream",
     "text": [
      "/tmp/ipykernel_3101059/3674049209.py:15: RuntimeWarning: divide by zero encountered in log\n",
      "  return -lagtime/(np.log(np.abs(eigvals)))\n"
     ]
    }
   ],
   "source": [
    "timescales = {}\n",
    "for model in report.keys():\n",
    "    timescales[model] = implied_timescales(report[model]['eigenvalues'])"
   ]
  },
  {
   "cell_type": "code",
   "execution_count": 29,
   "metadata": {},
   "outputs": [
    {
     "name": "stdout",
     "output_type": "stream",
     "text": [
      "Implied Timescales (ns)\n",
      "  DPNets    Nys-RRR    Nys-PCR\n",
      "--------  ---------  ---------\n",
      "  135.62      56.27      72.98\n",
      "   17.59       0.89       5.27\n",
      "    8.05       0.74       1.50\n",
      "    3.83       0.01       0.84\n",
      "    3.63       0.01       0.77\n",
      "    3.62       0.01       0.71\n",
      "    2.63       0.01       0.55\n",
      "    2.33       0.00       0.50\n",
      "    1.61       0.00       0.45\n",
      "    1.51       0.00       0.41\n",
      "    1.33       0.00       0.33\n",
      "    1.30       0.00       0.22\n",
      "    1.13       0.00       0.20\n",
      "    1.08       0.00       0.19\n",
      "    0.81       0.00       0.18\n",
      "    0.57       0.00       0.08\n"
     ]
    }
   ],
   "source": [
    "print(\"Implied Timescales (ns)\")\n",
    "print(tabulate(timescales, headers=\"keys\", floatfmt=\".2f\"))"
   ]
  },
  {
   "cell_type": "code",
   "execution_count": 35,
   "metadata": {},
   "outputs": [
    {
     "data": {
      "image/png": "[encoded data removed]",
      "text/plain": [
       "<Figure size 362.557x329.597 with 1 Axes>"
      ]
     },
     "metadata": {},
     "output_type": "display_data"
    }
   ],
   "source": [
    "fig, ax = plt.subplots(figsize=figsize(wratio = .33, width_to_height = 1.1), dpi=200)\n",
    "for model in report.keys():\n",
    "    ax.plot(timescales[model], '.-', label=model, markersize=2)\n",
    "ax.axhline(0.2, color='k', linestyle='--', lw=0.75, label=r'$\\tau = 0.2$ ns')\n",
    "ax.set_yscale('log')\n",
    "ax.set_xmargin(0)\n",
    "ax.legend(frameon=False, loc='lower center', bbox_to_anchor=(0, 1, 1, 0), ncol=2, fontsize=6)\n",
    "ax.set_ylabel('Implied Timescales (ns)')\n",
    "ax.set_yticks([0.01, 0.1, 1, 10, 100])\n",
    "fig.tight_layout()\n",
    "fig.savefig(\"figures/implied_timescales.png\")"
   ]
  },
  {
   "cell_type": "markdown",
   "metadata": {},
   "source": [
    "## Eigenfunc Analysis"
   ]
  },
  {
   "cell_type": "code",
   "execution_count": 44,
   "metadata": {},
   "outputs": [],
   "source": [
    "bloomberg_colors = [\n",
    "    '#000000',\n",
    "    '#ff433d',\n",
    "    '#0068ff',\n",
    "    '#4af6c3',\n",
    "    '#fb8b1e'\n",
    "]"
   ]
  },
  {
   "cell_type": "code",
   "execution_count": 195,
   "metadata": {},
   "outputs": [],
   "source": [
    "def free_energy_surface(model_stub: str, eig_idx, bw = 'silverman'):\n",
    "    lfns = report[model_stub]['left_fns']\n",
    "    rfns = report[model_stub]['right_fns']\n",
    "    lfns = lfns.real\n",
    "    rfns = rfns.real\n",
    "\n",
    "    eig = report[model_stub]['eigenvalues']\n",
    "    lfn = lfns[:, eig_idx]\n",
    "    rfn = rfns[:, eig_idx]\n",
    "\n",
    "    #boltzmann_dist = np.where(lfns[:, 0]>0, lfns[:, 0], 1e-8)\n",
    "\n",
    "    if lfn.ndim == 1:\n",
    "        pass\n",
    "        #lfn = lfn/boltzmann_dist #Normalization\n",
    "    elif lfn.ndim == 2:\n",
    "        pass\n",
    "        #lfn = lfn/boltzmann_dist[:, None] #Normalization\n",
    "    else:\n",
    "        raise ValueError(\"Only 1 or 2 eigenvalue indices are supported\")\n",
    "    x, kde = FFTKDE(bw=bw).fit(lfn).evaluate(2**8) #256 bins\n",
    "    fes = -np.log(kde)\n",
    "    return x, fes\n"
   ]
  },
  {
   "cell_type": "code",
   "execution_count": 218,
   "metadata": {},
   "outputs": [],
   "source": [
    "eval_idx = np.array([1])\n",
    "model_stub = 'Nys-RRR' \n",
    "x, fes = free_energy_surface(model_stub, eval_idx)"
   ]
  },
  {
   "cell_type": "code",
   "execution_count": 197,
   "metadata": {},
   "outputs": [
    {
     "ename": "IndexError",
     "evalue": "too many indices for array: array is 1-dimensional, but 2 were indexed",
     "output_type": "error",
     "traceback": [
      "\u001b[0;31m---------------------------------------------------------------------------\u001b[0m",
      "\u001b[0;31mIndexError\u001b[0m                                Traceback (most recent call last)",
      "\u001b[1;32m/home/novelli/dp_examples/chignolin/figures.ipynb Cell 19\u001b[0m line \u001b[0;36m1\n\u001b[0;32m----> <a href='vscode-notebook-cell://ssh-remote%2B7b22686f73744e616d65223a22416c69656e77617265227d/home/novelli/dp_examples/chignolin/figures.ipynb#X56sdnNjb2RlLXJlbW90ZQ%3D%3D?line=0'>1</a>\u001b[0m plt\u001b[39m.\u001b[39mtricontour(x[:, \u001b[39m0\u001b[39;49m], x[:, \u001b[39m1\u001b[39m], np\u001b[39m.\u001b[39mwhere(fes \u001b[39m<\u001b[39m \u001b[39m35\u001b[39m, fes, \u001b[39m0\u001b[39m), levels\u001b[39m=\u001b[39m\u001b[39m5\u001b[39m, linewidths\u001b[39m=\u001b[39m\u001b[39m0.5\u001b[39m, colors\u001b[39m=\u001b[39m\u001b[39m'\u001b[39m\u001b[39mk\u001b[39m\u001b[39m'\u001b[39m, vmax \u001b[39m=\u001b[39m \u001b[39m30\u001b[39m)\n",
      "\u001b[0;31mIndexError\u001b[0m: too many indices for array: array is 1-dimensional, but 2 were indexed"
     ]
    }
   ],
   "source": [
    "plt.tricontour(x[:, 0], x[:, 1], np.where(fes < 35, fes, 0), levels=5, linewidths=0.5, colors='k', vmax = 30)"
   ]
  },
  {
   "cell_type": "code",
   "execution_count": 219,
   "metadata": {},
   "outputs": [
    {
     "data": {
      "text/plain": [
       "<matplotlib.legend.Legend at 0x7f68086ddba0>"
      ]
     },
     "execution_count": 219,
     "metadata": {},
     "output_type": "execute_result"
    },
    {
     "data": {
      "image/png": "[encoded data removed]",
      "text/plain": [
       "<Figure size 549.329x366.219 with 1 Axes>"
      ]
     },
     "metadata": {},
     "output_type": "display_data"
    }
   ],
   "source": [
    "from scipy.signal import argrelextrema\n",
    "# for local minima\n",
    "local_minima = argrelextrema(fes, np.greater)\n",
    "fig, ax = plt.subplots(figsize=figsize(wratio = .5, width_to_height = 3/2), dpi=200)\n",
    "\n",
    "ax.plot(x, fes, label='Free Energy surface', lw=1, c = bloomberg_colors[1]);\n",
    "ax.scatter(x[local_minima], fes[local_minima], label='Local minima', c = bloomberg_colors[1], s=10);\n",
    "ax.legend(frameon=False, loc='lower center', bbox_to_anchor=(0, 1, 1, 0), ncol=2, fontsize=6)"
   ]
  },
  {
   "cell_type": "markdown",
   "metadata": {},
   "source": [
    "### DPNets vs. Nystrom\n",
    "So far: \n",
    "1. $\\mathcal{P}$ score is higher (can be estimated just by summing the squared eigenvalues, as the system is self-adjoint)\n",
    "2. The implied timescales are all above the lagtime. Below it, any estimated eigenvalue is pure noise.\n",
    "3. (Hopefully?) Nystrom only recover the folding-unfolding transition, while DPNets also recover the one by Bonati et al.\n",
    "4. Compare implied timescale vs $\\tau_{tr}$ reported in the paper.\n",
    "5. (?) Compare free energy difference between the estimated FES and the reported enthalpies."
   ]
  },
  {
   "cell_type": "code",
   "execution_count": 213,
   "metadata": {},
   "outputs": [],
   "source": [
    "def compute_enthalpy(model:str, T = 340):\n",
    "    k_B = 0.0019872041\n",
    "    kBT = k_B*T\n",
    "    x, fes = free_energy_surface(model, 1)\n",
    "    local_minima_idx = argrelextrema(fes, np.less)\n",
    "    fes = fes[local_minima_idx]\n",
    "    fes = fes - fes.min()\n",
    "    fes = np.sort(fes)\n",
    "    return -fes[1]*kBT"
   ]
  },
  {
   "cell_type": "code",
   "execution_count": 221,
   "metadata": {},
   "outputs": [
    {
     "name": "stdout",
     "output_type": "stream",
     "text": [
      "Projection score (higher is better):\n",
      "  DPNets: 12.84\n",
      "  Nys-RRR: 2.22\n",
      "  Nys-PCR: 7.02\n",
      "-----------------\n",
      "Transition-path time\n",
      "  Reference (Lindorff-Larsen et al. 2011): 40 ns\n",
      "  DPNets: 17.59 ns\n",
      "  Nys-RRR: 0.89 ns\n",
      "  Nys-PCR: 5.27 ns\n",
      "-----------------\n",
      "Folding enthalpy (T = 340K)\n",
      "  Reference (Lindorff-Larsen et al. 2011): -6.1 kcal/mol\n",
      "  DPNets: -1.97 kcal/mol\n",
      "  Nys-RRR: -0.03 kcal/mol\n",
      "  Nys-PCR: -1.76 kcal/mol\n"
     ]
    }
   ],
   "source": [
    "print(\"Projection score (higher is better):\")\n",
    "for model in report.keys():\n",
    "    ev = report[model]['eigenvalues']\n",
    "    score = np.sum(np.abs(ev)**2)\n",
    "    print(f\"  {model}: {score:.2f}\")\n",
    "print(\"-----------------\")\n",
    "print(\"Transition-path time\")\n",
    "print(\"  Reference (Lindorff-Larsen et al. 2011): 40 ns\")\n",
    "for model in report.keys():\n",
    "    print(f\"  {model}: {timescales[model][1]:.2f} ns\")\n",
    "print(\"-----------------\")\n",
    "print(\"Folding enthalpy (T = 340K)\")\n",
    "print(\"  Reference (Lindorff-Larsen et al. 2011): -6.1 kcal/mol\")\n",
    "for model in report.keys():\n",
    "    try:\n",
    "        print(f\"  {model}: {compute_enthalpy(model):.2f} kcal/mol\")\n",
    "    except:\n",
    "        print(f\"  {model}: N/A\")"
   ]
  }
 ],
 "metadata": {
  "kernelspec": {
   "display_name": "DPNets",
   "language": "python",
   "name": "python3"
  },
  "language_info": {
   "codemirror_mode": {
    "name": "ipython",
    "version": 3
   },
   "file_extension": ".py",
   "mimetype": "text/x-python",
   "name": "python",
   "nbconvert_exporter": "python",
   "pygments_lexer": "ipython3",
   "version": "3.10.10"
  },
  "orig_nbformat": 4
 },
 "nbformat": 4,
 "nbformat_minor": 2
}
