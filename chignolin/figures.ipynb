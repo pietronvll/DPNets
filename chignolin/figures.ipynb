{
 "cells": [
  {
   "cell_type": "markdown",
   "metadata": {},
   "source": [
    "# Comparing DPNets to Nyström PCR/RRR"
   ]
  },
  {
   "cell_type": "code",
   "execution_count": 118,
   "metadata": {},
   "outputs": [],
   "source": [
    "#General imports\n",
    "import os\n",
    "from pathlib import Path\n",
    "import pickle\n",
    "data_path = Path('data/')\n",
    "from kooplearn._src.utils import topk\n",
    "import numpy as np\n",
    "from tabulate import tabulate\n",
    "import matplotlib.pyplot as plt\n",
    "import scienceplots\n",
    "\n",
    "plt.style.use(['science', 'no-latex', 'std-colors'])\n",
    "plt.rcParams['figure.dpi'] = 200\n",
    "plt.rcParams['font.size'] = 8\n",
    "plt.rcParams['axes.labelsize'] = 8\n",
    "plt.rcParams['xtick.labelsize'] = 7\n",
    "plt.rcParams['ytick.labelsize'] = 7"
   ]
  },
  {
   "cell_type": "code",
   "execution_count": 119,
   "metadata": {},
   "outputs": [],
   "source": [
    "def pt_to_inch(pt):\n",
    "    return pt/72.27\n",
    "\n",
    "def figsize(wratio = 1, width_to_height = 3/2, text_width_pt = 397):\n",
    "    w = pt_to_inch(text_width_pt)*wratio\n",
    "    h = w/width_to_height\n",
    "    return (w,h)\n",
    "\n",
    "def sort_evd(evals, left_fns, right_fns):\n",
    "    top_evals = topk(evals, len(evals))\n",
    "\n",
    "    return np.where(top_evals.values > 0, top_evals.values, 0), left_fns[top_evals.indices], right_fns[top_evals.indices]\n",
    "\n",
    "def implied_timescales(eigvals, lagtime = 0.2):\n",
    "    return -lagtime/(np.log(np.abs(eigvals)))"
   ]
  },
  {
   "cell_type": "markdown",
   "metadata": {},
   "source": [
    "## Loading DPNets Checkpoint"
   ]
  },
  {
   "cell_type": "code",
   "execution_count": 120,
   "metadata": {},
   "outputs": [],
   "source": [
    "# Wrap the old code into kooplearn\n",
    "import torch\n",
    "import schnetpack\n",
    "from kooplearn.models import DMD\n",
    "from kooplearn.data import traj_to_contexts\n",
    "import numpy as np\n",
    "import matplotlib.pyplot as plt\n",
    "\n",
    "class Namespace:\n",
    "    def __init__(self, d):\n",
    "        for k, v in d.items():\n",
    "            if isinstance(v, dict):\n",
    "                setattr(self, k, Namespace(v))\n",
    "            else:\n",
    "                setattr(self, k, v)\n",
    "#Hardcoded configs              \n",
    "configs = Namespace({\n",
    "    'data': {\n",
    "        'cutoff': 5\n",
    "    },\n",
    "    'network': {\n",
    "        'n_rbf': 20,\n",
    "        'n_atom_basis': 64,\n",
    "        'n_final_features': 16,\n",
    "        'n_interactions': 3\n",
    "    }\n",
    "})\n",
    "\n",
    "class SchNet(schnetpack.model.AtomisticModel):\n",
    "    def __init__(self, configs: Namespace):\n",
    "        super().__init__(\n",
    "            input_dtype_str=\"float32\",\n",
    "            postprocessors=None,\n",
    "            do_postprocessing=False,\n",
    "        )\n",
    "        self.cutoff = configs.data.cutoff\n",
    "        self.pwise_dist = schnetpack.atomistic.PairwiseDistances()\n",
    "        self.radial_basis = schnetpack.nn.GaussianRBF(n_rbf=configs.network.n_rbf, cutoff=self.cutoff)\n",
    "        self.net = schnetpack.representation.SchNet(\n",
    "            n_atom_basis=configs.network.n_atom_basis, \n",
    "            n_interactions=configs.network.n_interactions,\n",
    "            radial_basis=self.radial_basis,\n",
    "            cutoff_fn=schnetpack.nn.CosineCutoff(self.cutoff)\n",
    "        )\n",
    "        self.final_lin = torch.nn.Linear(configs.network.n_atom_basis, configs.network.n_final_features)\n",
    "        self.batch_norm = torch.nn.BatchNorm1d(configs.network.n_final_features, affine=False)\n",
    "    def forward(self, inputs: dict[str, torch.Tensor]) -> dict[str, torch.Tensor]:\n",
    "        inputs = self.pwise_dist(inputs)\n",
    "        inputs = self.net(inputs)\n",
    "        inputs['scalar_representation'] = self.final_lin(inputs['scalar_representation'])\n",
    "        return inputs['scalar_representation']"
   ]
  },
  {
   "cell_type": "code",
   "execution_count": 121,
   "metadata": {},
   "outputs": [],
   "source": [
    "db_path = data_path / 'CLN025-0-protein-ALL.db'\n",
    "cache_path = data_path / 'cache'\n",
    "nb_list_transform = schnetpack.transform.CachedNeighborList(cache_path, schnetpack.transform.MatScipyNeighborList(cutoff=configs.data.cutoff), keep_cache=True)\n",
    "in_transforms = [schnetpack.transform.CastTo32(), nb_list_transform]\n",
    "dataset = schnetpack.data.ASEAtomsData(str(db_path), transforms=in_transforms)\n",
    "dataloader = schnetpack.data.AtomsLoader(dataset, num_workers=2, persistent_workers=True, batch_size = 1, shuffle=False)"
   ]
  },
  {
   "cell_type": "code",
   "execution_count": 122,
   "metadata": {},
   "outputs": [
    {
     "data": {
      "text/plain": [
       "<All keys matched successfully>"
      ]
     },
     "execution_count": 122,
     "metadata": {},
     "output_type": "execute_result"
    }
   ],
   "source": [
    "# Restoring checkpoint\n",
    "state_dict = torch.load('schnet_model_ckpt.pt')\n",
    "model = SchNet(configs)\n",
    "model.load_state_dict(state_dict)"
   ]
  },
  {
   "cell_type": "code",
   "execution_count": 123,
   "metadata": {},
   "outputs": [],
   "source": [
    "# Pre-Compute pwise distances\n",
    "from tqdm import tqdm\n",
    "features = []\n",
    "model.eval()\n",
    "chunk_idx = 0\n",
    "chunk_size = 20000\n",
    "if False:\n",
    "    for batch_idx, batch in tqdm(enumerate(dataloader), total=len(dataloader)):\n",
    "        with torch.no_grad():\n",
    "            feats = model(batch)\n",
    "        features.append(feats)\n",
    "        if (batch_idx + 1) % chunk_size == 0:\n",
    "            features = torch.stack(features, dim=0)\n",
    "            torch.save(features, f'data/schnet_feats/chunk_{chunk_idx}.pt')\n",
    "            features = []\n",
    "            chunk_idx += 1\n",
    "    features = torch.stack(features, dim=0)\n",
    "    torch.save(features, f'data/schnet_feats/chunk_{chunk_idx}.pt')"
   ]
  },
  {
   "cell_type": "code",
   "execution_count": 124,
   "metadata": {},
   "outputs": [],
   "source": [
    "#Load the features back to memory\n",
    "num_chunks = len(os.listdir(\"data/schnet_feats\"))\n",
    "features = []\n",
    "for i in range(num_chunks):\n",
    "    features.append(torch.load(f'data/schnet_feats/chunk_{i}.pt'))\n",
    "features = torch.cat(features, dim=0)\n",
    "#Use mean embedding as a pooling strategy\n",
    "mean_embedding = torch.mean(features, dim=1)\n",
    "mean_embedding = mean_embedding.numpy()"
   ]
  },
  {
   "cell_type": "code",
   "execution_count": 148,
   "metadata": {},
   "outputs": [
    {
     "name": "stdout",
     "output_type": "stream",
     "text": [
      "Fitted DMD model. Lookback length set to 1\n"
     ]
    }
   ],
   "source": [
    "#Init report\n",
    "report = {}\n",
    "# Transfer operator fitting\n",
    "contexts = traj_to_contexts(mean_embedding)\n",
    "dmd_model = DMD(reduced_rank = False, rank = 16)\n",
    "dmd_model = dmd_model.fit(contexts)\n",
    "#Computing eigenvalue decomposition:\n",
    "data = np.expand_dims(mean_embedding, 1) # (num_samples, 1, num_features)\n",
    "eig, lf, rf = dmd_model.eig(eval_left_on = data, eval_right_on = data)\n",
    "eig, lf, rf = sort_evd(eig, lf, rf)\n",
    "#Populate report\n",
    "report['DPNets'] = {\n",
    "    'eigenvalues': eig,\n",
    "    'left_fns': lf,\n",
    "    'right_fns': rf\n",
    "}\n",
    "#Nystrom\n",
    "for fname in os.listdir(data_path / 'nystrom_evd'):\n",
    "    stub = fname.split('_')[0]\n",
    "    with open(data_path / 'nystrom_evd' / fname, 'rb') as f:\n",
    "        restored_obj = pickle.load(f)\n",
    "        eig = restored_obj['eigenvalues']\n",
    "        lf = restored_obj['left_eigenfunctions']\n",
    "        rf = restored_obj['right_eigenfunctions']\n",
    "    eig, lf, rf = sort_evd(eig, lf, rf)\n",
    "    report[\"Nys-\" + stub] = {\n",
    "        'eigenvalues': eig,\n",
    "        'left_fns': lf,\n",
    "        'right_fns': rf\n",
    "    }"
   ]
  },
  {
   "cell_type": "markdown",
   "metadata": {},
   "source": [
    "## Pretty print eigenvalues"
   ]
  },
  {
   "cell_type": "code",
   "execution_count": 149,
   "metadata": {},
   "outputs": [
    {
     "name": "stderr",
     "output_type": "stream",
     "text": [
      "/tmp/ipykernel_3094101/710621774.py:15: RuntimeWarning: divide by zero encountered in log\n",
      "  return -lagtime/(np.log(np.abs(eigvals)))\n"
     ]
    }
   ],
   "source": [
    "timescales = {}\n",
    "for model in report.keys():\n",
    "    timescales[model] = implied_timescales(report[model]['eigenvalues'])"
   ]
  },
  {
   "cell_type": "code",
   "execution_count": 150,
   "metadata": {},
   "outputs": [
    {
     "name": "stdout",
     "output_type": "stream",
     "text": [
      "Implied Timescales (ns)\n",
      "  DPNets    Nys-RRR    Nys-PCR\n",
      "--------  ---------  ---------\n",
      "  135.62      56.27      72.98\n",
      "   17.59       0.89       5.27\n",
      "    8.05       0.74       1.50\n",
      "    3.83       0.01       0.84\n",
      "    3.63       0.01       0.77\n",
      "    3.62       0.01       0.71\n",
      "    2.63       0.01       0.55\n",
      "    2.33       0.00       0.50\n",
      "    1.61       0.00       0.45\n",
      "    1.51       0.00       0.41\n",
      "    1.33       0.00       0.33\n",
      "    1.30       0.00       0.22\n",
      "    1.13       0.00       0.20\n",
      "    1.08       0.00       0.19\n",
      "    0.81       0.00       0.18\n",
      "    0.57       0.00       0.08\n"
     ]
    }
   ],
   "source": [
    "print(\"Implied Timescales (ns)\")\n",
    "print(tabulate(timescales, headers=\"keys\", floatfmt=\".2f\"))"
   ]
  },
  {
   "cell_type": "code",
   "execution_count": 169,
   "metadata": {},
   "outputs": [
    {
     "data": {
      "image/png": "[encoded data removed]",
      "text/plain": [
       "<Figure size 362.557x329.597 with 1 Axes>"
      ]
     },
     "metadata": {},
     "output_type": "display_data"
    }
   ],
   "source": [
    "fig, ax = plt.subplots(figsize=figsize(wratio = .33, width_to_height = 1.1), dpi=200)\n",
    "for model in report.keys():\n",
    "    ax.plot(timescales[model], '.-', label=model)\n",
    "ax.axhline(0.2, color='k', linestyle='--', lw=0.75, label=r'$\\tau = 0.2$ ns')\n",
    "ax.set_yscale('log')\n",
    "ax.set_xmargin(0)\n",
    "ax.legend(frameon=False, loc='lower center', bbox_to_anchor=(0, 1, 1, 0), ncol=2, fontsize=6)\n",
    "ax.set_ylabel('Implied Timescales (ns)')\n",
    "ax.set_yticks([0.01, 0.1, 1, 10, 100])\n",
    "fig.tight_layout()\n",
    "fig.savefig(\"figures/implied_timescales.png\")"
   ]
  },
  {
   "cell_type": "markdown",
   "metadata": {},
   "source": [
    "## Free Energy Surface"
   ]
  },
  {
   "cell_type": "code",
   "execution_count": 13,
   "metadata": {},
   "outputs": [
    {
     "data": {
      "image/png": "[encoded data removed]",
      "text/plain": [
       "<Figure size 640x480 with 1 Axes>"
      ]
     },
     "metadata": {},
     "output_type": "display_data"
    }
   ],
   "source": [
    "bins = 1000\n",
    "plt.hist(lf[:, -2], bins = bins, density=True);"
   ]
  },
  {
   "cell_type": "code",
   "execution_count": 15,
   "metadata": {},
   "outputs": [
    {
     "data": {
      "text/plain": [
       "(14.282188+0j)"
      ]
     },
     "execution_count": 15,
     "metadata": {},
     "output_type": "execute_result"
    }
   ],
   "source": [
    "dmd_model.eig().sum()"
   ]
  },
  {
   "cell_type": "code",
   "execution_count": 14,
   "metadata": {},
   "outputs": [
    {
     "name": "stdout",
     "output_type": "stream",
     "text": [
      "[  0.57381463   0.8120724    1.0774456    1.1300983    1.3021536\n",
      "   1.3344892    1.5089793    1.6097833    2.3308525    2.6301708\n",
      "   3.6168768    3.6283338    3.827861     8.052493    17.593748\n",
      " 135.6215    ]\n"
     ]
    }
   ],
   "source": [
    "print(implied_timescales(dmd_model.eig(), dt))"
   ]
  },
  {
   "cell_type": "markdown",
   "metadata": {},
   "source": [
    "# Nystrom Models"
   ]
  },
  {
   "cell_type": "code",
   "execution_count": 1,
   "metadata": {},
   "outputs": [],
   "source": [
    "import os\n",
    "os.environ[\"CUDA_PATH\"] = \"/home/novelli/anaconda3/envs/nyskoop\"\n",
    "import numpy as np\n",
    "import torch\n",
    "pwdist = np.load(\"/home/novelli/dp_examples/chignolin/data/CLN025_heavy_pwisedist.npy\")\n",
    "pwdist = torch.from_numpy(pwdist)\n",
    "# Data Normalization\n",
    "feature_norm = torch.linalg.norm(pwdist, dim=0, keepdim=True)\n",
    "feature_mean = torch.mean(pwdist, dim=0, keepdim=True)\n",
    "pwdist -= feature_mean\n",
    "pwdist /= feature_norm"
   ]
  },
  {
   "cell_type": "code",
   "execution_count": 2,
   "metadata": {},
   "outputs": [],
   "source": [
    "import pickle\n",
    "nystrom_models = {}\n",
    "for model in ['pcr','rrr']:\n",
    "    with open(f'ckpt/nystrom_{model}.pkl', 'rb') as f:\n",
    "        nystrom_models[model] = pickle.load(f)"
   ]
  },
  {
   "cell_type": "code",
   "execution_count": 3,
   "metadata": {},
   "outputs": [],
   "source": [
    "for model in ['pcr','rrr']:\n",
    "    est = nystrom_models[model]['estimator']\n",
    "    v, lf_fn, r_fn = est.eigenfunctions()\n",
    "    v = v.resolve_conj().numpy()\n",
    "    lf = lf_fn(pwdist).numpy()\n",
    "    rf = r_fn(pwdist).numpy()\n",
    "    sort_perm = np.argsort(v)[::-1]\n",
    "    np.savez(f'data/nystrom_evd/{model}.npz', eigenvalues=v[sort_perm], left_fns=lf[:, sort_perm], right_fns=rf[:, sort_perm])"
   ]
  },
  {
   "cell_type": "code",
   "execution_count": 8,
   "metadata": {},
   "outputs": [],
   "source": [
    "v, lf_fn, r_fn = est.eigenfunctions()"
   ]
  },
  {
   "cell_type": "code",
   "execution_count": 3,
   "metadata": {},
   "outputs": [
    {
     "data": {
      "text/plain": [
       "array([0, 1, 2, 3, 4, 5, 6, 7, 8, 9])"
      ]
     },
     "execution_count": 3,
     "metadata": {},
     "output_type": "execute_result"
    }
   ],
   "source": [
    "np.argsort(np.arange(10))"
   ]
  },
  {
   "cell_type": "code",
   "execution_count": 11,
   "metadata": {},
   "outputs": [],
   "source": [
    "lf = lf_fn(pwdist)"
   ]
  },
  {
   "cell_type": "code",
   "execution_count": 13,
   "metadata": {},
   "outputs": [],
   "source": [
    "lf = lf.numpy()"
   ]
  },
  {
   "cell_type": "code",
   "execution_count": 16,
   "metadata": {},
   "outputs": [
    {
     "data": {
      "image/png": "[encoded data removed]",
      "text/plain": [
       "<Figure size 640x480 with 1 Axes>"
      ]
     },
     "metadata": {},
     "output_type": "display_data"
    }
   ],
   "source": [
    "import matplotlib.pyplot as plt\n",
    "plt.hist(lf[:, 1].real, bins = 1000, density=True);"
   ]
  },
  {
   "cell_type": "code",
   "execution_count": 19,
   "metadata": {},
   "outputs": [
    {
     "name": "stdout",
     "output_type": "stream",
     "text": [
      "[95.838295    7.5872793   1.1889821   1.1159911   0.8237654   0.7524317\n",
      "  0.6694608   0.58439004  0.44238803  0.39537108  0.3649637   0.3305681\n",
      "  0.30275244  0.24980013  0.22199486  0.21354909]\n"
     ]
    }
   ],
   "source": [
    "print(implied_timescales(v.resolve_conj().numpy(), dt))"
   ]
  },
  {
   "cell_type": "code",
   "execution_count": null,
   "metadata": {},
   "outputs": [],
   "source": []
  }
 ],
 "metadata": {
  "kernelspec": {
   "display_name": "DPNets",
   "language": "python",
   "name": "python3"
  },
  "language_info": {
   "codemirror_mode": {
    "name": "ipython",
    "version": 3
   },
   "file_extension": ".py",
   "mimetype": "text/x-python",
   "name": "python",
   "nbconvert_exporter": "python",
   "pygments_lexer": "ipython3",
   "version": "3.10.10"
  },
  "orig_nbformat": 4
 },
 "nbformat": 4,
 "nbformat_minor": 2
}
