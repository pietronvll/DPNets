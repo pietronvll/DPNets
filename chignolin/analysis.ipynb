{
 "cells": [
  {
   "cell_type": "code",
   "execution_count": 10,
   "metadata": {},
   "outputs": [],
   "source": [
    "# Wrap the old code into kooplearn\n",
    "import schnetpack\n",
    "import ml_confs\n",
    "import torch\n",
    "import pytorch_lightning as pl\n",
    "from typing import Any\n",
    "import sys\n",
    "sys.path.append('../../dpnets_legacy/')\n",
    "import koopnet\n",
    "from collections import OrderedDict\n",
    "\n",
    "class Namespace:\n",
    "    def __init__(self, d):\n",
    "        for k, v in d.items():\n",
    "            if isinstance(v, dict):\n",
    "                setattr(self, k, Namespace(v))\n",
    "            else:\n",
    "                setattr(self, k, v)\n",
    "\n",
    "configs = {\n",
    "    'data': {\n",
    "        'cutoff': 5\n",
    "    },\n",
    "    'network': {\n",
    "        'n_rbf': 20,\n",
    "        'n_atom_basis': 64,\n",
    "        'n_final_features': 16,\n",
    "        'n_interactions': 3\n",
    "    }\n",
    "}\n",
    "\n",
    "class SchNet(schnetpack.model.AtomisticModel):\n",
    "    def __init__(self, configs: Namespace):\n",
    "        super().__init__(\n",
    "            input_dtype_str=\"float32\",\n",
    "            postprocessors=None,\n",
    "            do_postprocessing=False,\n",
    "        )\n",
    "        self.cutoff = configs.data.cutoff\n",
    "        self.pwise_dist = schnetpack.atomistic.PairwiseDistances()\n",
    "        self.radial_basis = schnetpack.nn.GaussianRBF(n_rbf=configs.network.n_rbf, cutoff=self.cutoff)\n",
    "        self.net = schnetpack.representation.SchNet(\n",
    "            n_atom_basis=configs.network.n_atom_basis, \n",
    "            n_interactions=configs.network.n_interactions,\n",
    "            radial_basis=self.radial_basis,\n",
    "            cutoff_fn=schnetpack.nn.CosineCutoff(self.cutoff)\n",
    "        )\n",
    "        self.final_lin = torch.nn.Linear(configs.network.n_atom_basis, configs.network.n_final_features)\n",
    "        self.batch_norm = torch.nn.BatchNorm1d(configs.network.n_final_features, affine=False)\n",
    "    def forward(self, inputs: dict[str, torch.Tensor]) -> dict[str, torch.Tensor]:\n",
    "        inputs = self.pwise_dist(inputs)\n",
    "        inputs = self.net(inputs)\n",
    "        inputs['scalar_representation'] = self.final_lin(inputs['scalar_representation'])\n",
    "        return inputs"
   ]
  },
  {
   "cell_type": "code",
   "execution_count": 16,
   "metadata": {},
   "outputs": [],
   "source": [
    "ckpt_path = 'ckpt/colorful-cosmos-97/'\n",
    "ckpt = torch.load(ckpt_path + 'last.ckpt')\n",
    "state_dict = ckpt['state_dict']\n",
    "keys = [k[7:] for k in state_dict.keys()]\n",
    "values = list(state_dict.values())\n",
    "state_dict = OrderedDict(zip(keys, values))"
   ]
  },
  {
   "cell_type": "code",
   "execution_count": 17,
   "metadata": {},
   "outputs": [],
   "source": [
    "model = SchNet(Namespace(configs))"
   ]
  },
  {
   "cell_type": "code",
   "execution_count": 19,
   "metadata": {},
   "outputs": [
    {
     "data": {
      "text/plain": [
       "<All keys matched successfully>"
      ]
     },
     "execution_count": 19,
     "metadata": {},
     "output_type": "execute_result"
    }
   ],
   "source": [
    "model.load_state_dict(state_dict)"
   ]
  },
  {
   "cell_type": "code",
   "execution_count": 22,
   "metadata": {},
   "outputs": [],
   "source": [
    "torch.save(model.state_dict(), 'schnet_model_ckpt.pt')"
   ]
  },
  {
   "cell_type": "code",
   "execution_count": null,
   "metadata": {},
   "outputs": [],
   "source": []
  }
 ],
 "metadata": {
  "kernelspec": {
   "display_name": "DPNets",
   "language": "python",
   "name": "python3"
  },
  "language_info": {
   "codemirror_mode": {
    "name": "ipython",
    "version": 3
   },
   "file_extension": ".py",
   "mimetype": "text/x-python",
   "name": "python",
   "nbconvert_exporter": "python",
   "pygments_lexer": "ipython3",
   "version": "3.10.10"
  },
  "orig_nbformat": 4
 },
 "nbformat": 4,
 "nbformat_minor": 2
}
