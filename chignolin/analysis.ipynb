{
 "cells": [
  {
   "cell_type": "code",
   "execution_count": 32,
   "metadata": {},
   "outputs": [],
   "source": [
    "# Wrap the old code into kooplearn\n",
    "import torch\n",
    "import schnetpack\n",
    "from kooplearn.models import DMD\n",
    "from kooplearn.data import traj_to_contexts\n",
    "import numpy as np\n",
    "\n",
    "class Namespace:\n",
    "    def __init__(self, d):\n",
    "        for k, v in d.items():\n",
    "            if isinstance(v, dict):\n",
    "                setattr(self, k, Namespace(v))\n",
    "            else:\n",
    "                setattr(self, k, v)\n",
    "configs = Namespace({\n",
    "    'data': {\n",
    "        'cutoff': 5\n",
    "    },\n",
    "    'network': {\n",
    "        'n_rbf': 20,\n",
    "        'n_atom_basis': 64,\n",
    "        'n_final_features': 16,\n",
    "        'n_interactions': 3\n",
    "    }\n",
    "})\n",
    "\n",
    "class SchNet(schnetpack.model.AtomisticModel):\n",
    "    def __init__(self, configs: Namespace):\n",
    "        super().__init__(\n",
    "            input_dtype_str=\"float32\",\n",
    "            postprocessors=None,\n",
    "            do_postprocessing=False,\n",
    "        )\n",
    "        self.cutoff = configs.data.cutoff\n",
    "        self.pwise_dist = schnetpack.atomistic.PairwiseDistances()\n",
    "        self.radial_basis = schnetpack.nn.GaussianRBF(n_rbf=configs.network.n_rbf, cutoff=self.cutoff)\n",
    "        self.net = schnetpack.representation.SchNet(\n",
    "            n_atom_basis=configs.network.n_atom_basis, \n",
    "            n_interactions=configs.network.n_interactions,\n",
    "            radial_basis=self.radial_basis,\n",
    "            cutoff_fn=schnetpack.nn.CosineCutoff(self.cutoff)\n",
    "        )\n",
    "        self.final_lin = torch.nn.Linear(configs.network.n_atom_basis, configs.network.n_final_features)\n",
    "        self.batch_norm = torch.nn.BatchNorm1d(configs.network.n_final_features, affine=False)\n",
    "    def forward(self, inputs: dict[str, torch.Tensor]) -> dict[str, torch.Tensor]:\n",
    "        inputs = self.pwise_dist(inputs)\n",
    "        inputs = self.net(inputs)\n",
    "        inputs['scalar_representation'] = self.final_lin(inputs['scalar_representation'])\n",
    "        return inputs['scalar_representation']"
   ]
  },
  {
   "cell_type": "markdown",
   "metadata": {},
   "source": [
    "### Data loading"
   ]
  },
  {
   "cell_type": "code",
   "execution_count": 20,
   "metadata": {},
   "outputs": [],
   "source": [
    "import os\n",
    "from pathlib import Path\n",
    "data_path = Path('data/')\n",
    "db_path = data_path / 'CLN025-0-protein-ALL.db'\n",
    "cache_path = data_path / 'cache'\n",
    "nb_list_transform = schnetpack.transform.CachedNeighborList(cache_path, schnetpack.transform.MatScipyNeighborList(cutoff=configs.data.cutoff), keep_cache=True)\n",
    "in_transforms = [schnetpack.transform.CastTo32(), nb_list_transform]\n",
    "dataset = schnetpack.data.ASEAtomsData(str(db_path), transforms=in_transforms)\n",
    "dataloader = schnetpack.data.AtomsLoader(dataset, num_workers=2, persistent_workers=True, batch_size = 1, shuffle=False)"
   ]
  },
  {
   "cell_type": "code",
   "execution_count": 21,
   "metadata": {},
   "outputs": [
    {
     "data": {
      "text/plain": [
       "<All keys matched successfully>"
      ]
     },
     "execution_count": 21,
     "metadata": {},
     "output_type": "execute_result"
    }
   ],
   "source": [
    "state_dict = torch.load('schnet_model_ckpt.pt')\n",
    "model = SchNet(configs)\n",
    "model.load_state_dict(state_dict)"
   ]
  },
  {
   "cell_type": "code",
   "execution_count": 22,
   "metadata": {},
   "outputs": [],
   "source": [
    "from tqdm import tqdm\n",
    "features = []\n",
    "model.eval()\n",
    "chunk_idx = 0\n",
    "chunk_size = 20000\n",
    "if False:\n",
    "    for batch_idx, batch in tqdm(enumerate(dataloader), total=len(dataloader)):\n",
    "        with torch.no_grad():\n",
    "            feats = model(batch)\n",
    "        features.append(feats)\n",
    "        if (batch_idx + 1) % chunk_size == 0:\n",
    "            features = torch.stack(features, dim=0)\n",
    "            torch.save(features, f'data/schnet_feats/chunk_{chunk_idx}.pt')\n",
    "            features = []\n",
    "            chunk_idx += 1\n",
    "    features = torch.stack(features, dim=0)\n",
    "    torch.save(features, f'data/schnet_feats/chunk_{chunk_idx}.pt')\n"
   ]
  },
  {
   "cell_type": "code",
   "execution_count": 23,
   "metadata": {},
   "outputs": [],
   "source": [
    "#Load the features back to memory\n",
    "num_chunks = len(os.listdir(\"data/schnet_feats\"))\n",
    "features = []\n",
    "for i in range(num_chunks):\n",
    "    features.append(torch.load(f'data/schnet_feats/chunk_{i}.pt'))\n",
    "features = torch.cat(features, dim=0)"
   ]
  },
  {
   "cell_type": "code",
   "execution_count": 29,
   "metadata": {},
   "outputs": [],
   "source": [
    "mean_embedding = torch.mean(features, dim=1)\n",
    "mean_embedding = mean_embedding.numpy()"
   ]
  },
  {
   "cell_type": "code",
   "execution_count": 33,
   "metadata": {},
   "outputs": [],
   "source": [
    "contexts = traj_to_contexts(mean_embedding)"
   ]
  },
  {
   "cell_type": "code",
   "execution_count": 46,
   "metadata": {},
   "outputs": [
    {
     "name": "stdout",
     "output_type": "stream",
     "text": [
      "Fitted DMD model. Lookback length set to 1\n"
     ]
    },
    {
     "data": {
      "text/plain": [
       "<kooplearn.models.edmd.DMD at 0x7f45ca0dd030>"
      ]
     },
     "execution_count": 46,
     "metadata": {},
     "output_type": "execute_result"
    }
   ],
   "source": [
    "dmd_model = DMD(reduced_rank = False, rank = 16)\n",
    "dmd_model.fit(contexts)"
   ]
  },
  {
   "cell_type": "code",
   "execution_count": 53,
   "metadata": {},
   "outputs": [],
   "source": [
    "eig, lf, rf = dmd_model.eig(eval_left_on = contexts[:, dmd_model.lookback_len:, ...], eval_right_on = contexts[:, dmd_model.lookback_len:, ...])"
   ]
  },
  {
   "cell_type": "code",
   "execution_count": 54,
   "metadata": {},
   "outputs": [
    {
     "data": {
      "text/plain": [
       "(524742, 16)"
      ]
     },
     "execution_count": 54,
     "metadata": {},
     "output_type": "execute_result"
    }
   ],
   "source": [
    "lf.shape"
   ]
  },
  {
   "cell_type": "code",
   "execution_count": 63,
   "metadata": {},
   "outputs": [
    {
     "data": {
      "image/png": "[encoded data removed]",
      "text/plain": [
       "<Figure size 640x480 with 1 Axes>"
      ]
     },
     "metadata": {},
     "output_type": "display_data"
    }
   ],
   "source": [
    "bins = 1000\n",
    "plt.hist(lf[:, -3], bins = bins, density=True);"
   ]
  },
  {
   "cell_type": "code",
   "execution_count": 48,
   "metadata": {},
   "outputs": [
    {
     "name": "stdout",
     "output_type": "stream",
     "text": [
      "[  0.57381463   0.8120724    1.0774456    1.1300983    1.3021536\n",
      "   1.3344892    1.5089793    1.6097833    2.3308525    2.6301708\n",
      "   3.6168768    3.6283338    3.827861     8.052493    17.593748\n",
      " 135.6215    ]\n"
     ]
    }
   ],
   "source": [
    "def implied_timescales(eigvals, lagtime):\n",
    "    return -lagtime/(np.log(np.abs(eigvals)))\n",
    "\n",
    "dt = 0.2 #ns\n",
    "print(implied_timescales(dmd_model.eig(), dt))"
   ]
  },
  {
   "cell_type": "code",
   "execution_count": 49,
   "metadata": {},
   "outputs": [
    {
     "data": {
      "text/plain": [
       "16"
      ]
     },
     "execution_count": 49,
     "metadata": {},
     "output_type": "execute_result"
    }
   ],
   "source": [
    "dmd_model.rank"
   ]
  },
  {
   "cell_type": "code",
   "execution_count": null,
   "metadata": {},
   "outputs": [],
   "source": []
  }
 ],
 "metadata": {
  "kernelspec": {
   "display_name": "DPNets",
   "language": "python",
   "name": "python3"
  },
  "language_info": {
   "codemirror_mode": {
    "name": "ipython",
    "version": 3
   },
   "file_extension": ".py",
   "mimetype": "text/x-python",
   "name": "python",
   "nbconvert_exporter": "python",
   "pygments_lexer": "ipython3",
   "version": "3.10.10"
  },
  "orig_nbformat": 4
 },
 "nbformat": 4,
 "nbformat_minor": 2
}
