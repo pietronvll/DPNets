{
 "cells": [
  {
   "cell_type": "code",
   "execution_count": 1,
   "metadata": {},
   "outputs": [
    {
     "ename": "NameError",
     "evalue": "name 'JSONNamespace' is not defined",
     "output_type": "error",
     "traceback": [
      "\u001b[0;31m---------------------------------------------------------------------------\u001b[0m",
      "\u001b[0;31mNameError\u001b[0m                                 Traceback (most recent call last)",
      "\u001b[1;32m/home/novelli/dp_examples/chignolin/analysis.ipynb Cell 1\u001b[0m line \u001b[0;36m5\n\u001b[1;32m      <a href='vscode-notebook-cell://ssh-remote%2B7b22686f73744e616d65223a22416c69656e77617265227d/home/novelli/dp_examples/chignolin/analysis.ipynb#W1sdnNjb2RlLXJlbW90ZQ%3D%3D?line=2'>3</a>\u001b[0m \u001b[39mimport\u001b[39;00m \u001b[39mml_confs\u001b[39;00m\n\u001b[1;32m      <a href='vscode-notebook-cell://ssh-remote%2B7b22686f73744e616d65223a22416c69656e77617265227d/home/novelli/dp_examples/chignolin/analysis.ipynb#W1sdnNjb2RlLXJlbW90ZQ%3D%3D?line=3'>4</a>\u001b[0m \u001b[39mimport\u001b[39;00m \u001b[39mtorch\u001b[39;00m\n\u001b[0;32m----> <a href='vscode-notebook-cell://ssh-remote%2B7b22686f73744e616d65223a22416c69656e77617265227d/home/novelli/dp_examples/chignolin/analysis.ipynb#W1sdnNjb2RlLXJlbW90ZQ%3D%3D?line=4'>5</a>\u001b[0m \u001b[39mclass\u001b[39;00m \u001b[39mSchNet\u001b[39;00m(schnetpack\u001b[39m.\u001b[39mmodel\u001b[39m.\u001b[39mAtomisticModel):\n\u001b[1;32m      <a href='vscode-notebook-cell://ssh-remote%2B7b22686f73744e616d65223a22416c69656e77617265227d/home/novelli/dp_examples/chignolin/analysis.ipynb#W1sdnNjb2RlLXJlbW90ZQ%3D%3D?line=5'>6</a>\u001b[0m     \u001b[39mdef\u001b[39;00m \u001b[39m__init__\u001b[39m(\u001b[39mself\u001b[39m, configs: JSONNamespace):\n\u001b[1;32m      <a href='vscode-notebook-cell://ssh-remote%2B7b22686f73744e616d65223a22416c69656e77617265227d/home/novelli/dp_examples/chignolin/analysis.ipynb#W1sdnNjb2RlLXJlbW90ZQ%3D%3D?line=6'>7</a>\u001b[0m         \u001b[39msuper\u001b[39m()\u001b[39m.\u001b[39m\u001b[39m__init__\u001b[39m(\n\u001b[1;32m      <a href='vscode-notebook-cell://ssh-remote%2B7b22686f73744e616d65223a22416c69656e77617265227d/home/novelli/dp_examples/chignolin/analysis.ipynb#W1sdnNjb2RlLXJlbW90ZQ%3D%3D?line=7'>8</a>\u001b[0m             input_dtype_str\u001b[39m=\u001b[39m\u001b[39m\"\u001b[39m\u001b[39mfloat32\u001b[39m\u001b[39m\"\u001b[39m,\n\u001b[1;32m      <a href='vscode-notebook-cell://ssh-remote%2B7b22686f73744e616d65223a22416c69656e77617265227d/home/novelli/dp_examples/chignolin/analysis.ipynb#W1sdnNjb2RlLXJlbW90ZQ%3D%3D?line=8'>9</a>\u001b[0m             postprocessors\u001b[39m=\u001b[39m\u001b[39mNone\u001b[39;00m,\n\u001b[1;32m     <a href='vscode-notebook-cell://ssh-remote%2B7b22686f73744e616d65223a22416c69656e77617265227d/home/novelli/dp_examples/chignolin/analysis.ipynb#W1sdnNjb2RlLXJlbW90ZQ%3D%3D?line=9'>10</a>\u001b[0m             do_postprocessing\u001b[39m=\u001b[39m\u001b[39mFalse\u001b[39;00m,\n\u001b[1;32m     <a href='vscode-notebook-cell://ssh-remote%2B7b22686f73744e616d65223a22416c69656e77617265227d/home/novelli/dp_examples/chignolin/analysis.ipynb#W1sdnNjb2RlLXJlbW90ZQ%3D%3D?line=10'>11</a>\u001b[0m         )\n",
      "\u001b[1;32m/home/novelli/dp_examples/chignolin/analysis.ipynb Cell 1\u001b[0m line \u001b[0;36m6\n\u001b[1;32m      <a href='vscode-notebook-cell://ssh-remote%2B7b22686f73744e616d65223a22416c69656e77617265227d/home/novelli/dp_examples/chignolin/analysis.ipynb#W1sdnNjb2RlLXJlbW90ZQ%3D%3D?line=4'>5</a>\u001b[0m \u001b[39mclass\u001b[39;00m \u001b[39mSchNet\u001b[39;00m(schnetpack\u001b[39m.\u001b[39mmodel\u001b[39m.\u001b[39mAtomisticModel):\n\u001b[0;32m----> <a href='vscode-notebook-cell://ssh-remote%2B7b22686f73744e616d65223a22416c69656e77617265227d/home/novelli/dp_examples/chignolin/analysis.ipynb#W1sdnNjb2RlLXJlbW90ZQ%3D%3D?line=5'>6</a>\u001b[0m     \u001b[39mdef\u001b[39;00m \u001b[39m__init__\u001b[39m(\u001b[39mself\u001b[39m, configs: JSONNamespace):\n\u001b[1;32m      <a href='vscode-notebook-cell://ssh-remote%2B7b22686f73744e616d65223a22416c69656e77617265227d/home/novelli/dp_examples/chignolin/analysis.ipynb#W1sdnNjb2RlLXJlbW90ZQ%3D%3D?line=6'>7</a>\u001b[0m         \u001b[39msuper\u001b[39m()\u001b[39m.\u001b[39m\u001b[39m__init__\u001b[39m(\n\u001b[1;32m      <a href='vscode-notebook-cell://ssh-remote%2B7b22686f73744e616d65223a22416c69656e77617265227d/home/novelli/dp_examples/chignolin/analysis.ipynb#W1sdnNjb2RlLXJlbW90ZQ%3D%3D?line=7'>8</a>\u001b[0m             input_dtype_str\u001b[39m=\u001b[39m\u001b[39m\"\u001b[39m\u001b[39mfloat32\u001b[39m\u001b[39m\"\u001b[39m,\n\u001b[1;32m      <a href='vscode-notebook-cell://ssh-remote%2B7b22686f73744e616d65223a22416c69656e77617265227d/home/novelli/dp_examples/chignolin/analysis.ipynb#W1sdnNjb2RlLXJlbW90ZQ%3D%3D?line=8'>9</a>\u001b[0m             postprocessors\u001b[39m=\u001b[39m\u001b[39mNone\u001b[39;00m,\n\u001b[1;32m     <a href='vscode-notebook-cell://ssh-remote%2B7b22686f73744e616d65223a22416c69656e77617265227d/home/novelli/dp_examples/chignolin/analysis.ipynb#W1sdnNjb2RlLXJlbW90ZQ%3D%3D?line=9'>10</a>\u001b[0m             do_postprocessing\u001b[39m=\u001b[39m\u001b[39mFalse\u001b[39;00m,\n\u001b[1;32m     <a href='vscode-notebook-cell://ssh-remote%2B7b22686f73744e616d65223a22416c69656e77617265227d/home/novelli/dp_examples/chignolin/analysis.ipynb#W1sdnNjb2RlLXJlbW90ZQ%3D%3D?line=10'>11</a>\u001b[0m         )\n\u001b[1;32m     <a href='vscode-notebook-cell://ssh-remote%2B7b22686f73744e616d65223a22416c69656e77617265227d/home/novelli/dp_examples/chignolin/analysis.ipynb#W1sdnNjb2RlLXJlbW90ZQ%3D%3D?line=11'>12</a>\u001b[0m         \u001b[39mself\u001b[39m\u001b[39m.\u001b[39mcutoff \u001b[39m=\u001b[39m configs\u001b[39m.\u001b[39mdata\u001b[39m.\u001b[39mcutoff\n",
      "\u001b[0;31mNameError\u001b[0m: name 'JSONNamespace' is not defined"
     ]
    }
   ],
   "source": [
    "# Wrap the old code into kooplearn\n",
    "import schnetpack\n",
    "import ml_confs\n",
    "import torch\n",
    "\n",
    "class SchNet(schnetpack.model.AtomisticModel):\n",
    "    def __init__(self, configs: ml_confs.Configs):\n",
    "        super().__init__(\n",
    "            input_dtype_str=\"float32\",\n",
    "            postprocessors=None,\n",
    "            do_postprocessing=False,\n",
    "        )\n",
    "        self.cutoff = configs.data.cutoff\n",
    "        self.pwise_dist = schnetpack.atomistic.PairwiseDistances()\n",
    "        self.radial_basis = schnetpack.nn.GaussianRBF(n_rbf=configs.network.n_rbf, cutoff=self.cutoff)\n",
    "        self.net = schnetpack.representation.SchNet(\n",
    "            n_atom_basis=configs.network.n_atom_basis, \n",
    "            n_interactions=configs.network.n_interactions,\n",
    "            radial_basis=self.radial_basis,\n",
    "            cutoff_fn=schnetpack.nn.CosineCutoff(self.cutoff)\n",
    "        )\n",
    "        self.final_lin = torch.nn.Linear(configs.network.n_atom_basis, configs.network.n_final_features)\n",
    "        self.batch_norm = torch.nn.BatchNorm1d(configs.network.n_final_features, affine=False)\n",
    "    def forward(self, inputs: dict[str, torch.Tensor]) -> dict[str, torch.Tensor]:\n",
    "        inputs = self.pwise_dist(inputs)\n",
    "        inputs = self.net(inputs)\n",
    "        inputs['scalar_representation'] = self.final_lin(inputs['scalar_representation'])\n",
    "        # n_atoms = inputs[schnetpack.properties.n_atoms][0] #Assuming constant number of atoms across the batch\n",
    "        # n_final_features = inputs['scalar_representation'].shape[-1]\n",
    "        # inputs['scalar_representation'] = self.batch_norm(\n",
    "        #     inputs['scalar_representation'].view(-1, n_atoms, n_final_features).permute(0, 2, 1)\n",
    "        # ).permute(0, 2, 1).reshape(-1, n_final_features)\n",
    "        # inputs['scalar_representation'] =  inputs['scalar_representation']*torch.rsqrt(torch.tensor(n_final_features, dtype=torch.float32))\n",
    "        return inputs\n"
   ]
  },
  {
   "cell_type": "code",
   "execution_count": null,
   "metadata": {},
   "outputs": [],
   "source": []
  }
 ],
 "metadata": {
  "kernelspec": {
   "display_name": "DPNets",
   "language": "python",
   "name": "python3"
  },
  "language_info": {
   "codemirror_mode": {
    "name": "ipython",
    "version": 3
   },
   "file_extension": ".py",
   "mimetype": "text/x-python",
   "name": "python",
   "nbconvert_exporter": "python",
   "pygments_lexer": "ipython3",
   "version": "3.10.10"
  },
  "orig_nbformat": 4
 },
 "nbformat": 4,
 "nbformat_minor": 2
}
