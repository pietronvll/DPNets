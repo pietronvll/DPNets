{
 "cells": [
  {
   "cell_type": "code",
   "execution_count": null,
   "metadata": {},
   "outputs": [],
   "source": [
    "import os\n",
    "import pickle\n",
    "from pathlib import Path\n",
    "import matplotlib.pyplot as plt\n",
    "from copy import deepcopy\n",
    "import numpy as np"
   ]
  },
  {
   "cell_type": "code",
   "execution_count": null,
   "metadata": {},
   "outputs": [],
   "source": [
    "#List and unpickle all files in \"results/\"\n",
    "reports = []\n",
    "for file in os.listdir(\"results/\"):\n",
    "    if file.endswith(\".pkl\"):\n",
    "        with open(\"results/\"+file, \"rb\") as f:\n",
    "            reports.append(pickle.load(f))\n",
    "\n",
    "def get_series(report, key):\n",
    "    report = deepcopy(report)\n",
    "    model_name = report.pop(\"name\")\n",
    "    series = np.zeros(len(report))\n",
    "    for k, v in report.items():\n",
    "        idx = int(k.split('_')[0]) - 2\n",
    "        series[idx] = v.get(key, 0)\n",
    "    feature_dims = np.arange(len(report)) + 2\n",
    "    return feature_dims, series, model_name"
   ]
  },
  {
   "cell_type": "code",
   "execution_count": null,
   "metadata": {},
   "outputs": [],
   "source": [
    "fig, ax = plt.subplots()\n",
    "for report in reports:\n",
    "    x, y, model_name = get_series(report, \"hausdorff-dist\")\n",
    "    _, dy, _ = get_series(report, \"optimality-gap_std\")\n",
    "    ax.plot(x, y, label=model_name)\n",
    "    ax.fill_between(x, y - dy, y + dy, alpha=0.2)\n",
    "ax.set_xlabel(\"Feature dimension\")\n",
    "ax.set_ylabel(\"Optimality gap\")\n",
    "ax.set_xmargin(0)\n",
    "ax.legend(frameon=False)"
   ]
  },
  {
   "cell_type": "code",
   "execution_count": null,
   "metadata": {},
   "outputs": [],
   "source": []
  }
 ],
 "metadata": {
  "kernelspec": {
   "display_name": "kooplearn",
   "language": "python",
   "name": "python3"
  },
  "language_info": {
   "codemirror_mode": {
    "name": "ipython",
    "version": 3
   },
   "file_extension": ".py",
   "mimetype": "text/x-python",
   "name": "python",
   "nbconvert_exporter": "python",
   "pygments_lexer": "ipython3",
   "version": "3.11.4"
  },
  "orig_nbformat": 4
 },
 "nbformat": 4,
 "nbformat_minor": 2
}
