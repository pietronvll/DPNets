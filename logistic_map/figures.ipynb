{
 "cells": [
  {
   "cell_type": "code",
   "execution_count": null,
   "metadata": {},
   "outputs": [],
   "source": [
    "import os\n",
    "import pickle\n",
    "from pathlib import Path\n",
    "import matplotlib.pyplot as plt\n",
    "from copy import deepcopy\n",
    "import numpy as np\n",
    "from kooplearn.datasets import LogisticMap\n",
    "logistic = LogisticMap(N = 20, rng_seed=0)"
   ]
  },
  {
   "cell_type": "code",
   "execution_count": null,
   "metadata": {},
   "outputs": [],
   "source": [
    "#List and unpickle all files in \"results/\"\n",
    "reports = []\n",
    "for file in os.listdir(\"results/\"):\n",
    "    if file.endswith(\".pkl\"):\n",
    "        with open(\"results/\"+file, \"rb\") as f:\n",
    "            reports.append(pickle.load(f))\n",
    "\n",
    "def get_series(report, key):\n",
    "    report = deepcopy(report)\n",
    "    model_name = report.pop(\"name\")\n",
    "    series = np.zeros(len(report))\n",
    "    for k, v in report.items():\n",
    "        idx = int(k.split('_')[0]) - 2\n",
    "        series[idx] = v.get(key, 0)\n",
    "    feature_dims = np.arange(len(report)) + 2\n",
    "    return feature_dims, series, model_name\n",
    "\n",
    "def get_eigs(report):\n",
    "    report = deepcopy(report)\n",
    "    model_name = report.pop(\"name\")\n",
    "    eigs = []\n",
    "    for k, v in report.items():\n",
    "        idx = int(k.split('_')[0]) - 2\n",
    "        eigs.append(v['eigenvalues'])\n",
    "    feature_dims = np.arange(len(report)) + 2\n",
    "    return feature_dims, eigs, model_name"
   ]
  },
  {
   "cell_type": "code",
   "execution_count": null,
   "metadata": {},
   "outputs": [],
   "source": [
    "fig, ax = plt.subplots()\n",
    "for report in reports:\n",
    "    x, y, model_name = get_series(report, \"hausdorff-dist\")\n",
    "    _, dy, _ = get_series(report, \"hausdorff-dist_std\")\n",
    "    ax.plot(x, y, label=model_name)\n",
    "    ax.fill_between(x, y - dy, y + dy, alpha=0.2)\n",
    "ax.set_xlabel(\"Feature dimension\")\n",
    "ax.set_ylabel(\"Optimality gap\")\n",
    "ax.set_xmargin(0)\n",
    "ax.legend(frameon=False)"
   ]
  },
  {
   "cell_type": "code",
   "execution_count": null,
   "metadata": {},
   "outputs": [],
   "source": [
    "def plot_eigs(reports, feature_idx):\n",
    "    fig, ax = plt.subplots(figsize=(5, 5))  \n",
    "    #Activate grid\n",
    "    ax.grid(True, which='both')\n",
    "    #Plot unit circle\n",
    "    theta = np.linspace(0, 2*np.pi, 100)\n",
    "    ax.plot(np.cos(theta), np.sin(theta), color='k', lw=0.75)   \n",
    "    for report in reports:\n",
    "        x, eigs, model_name = get_eigs(report)\n",
    "        eigs = eigs[feature_idx]\n",
    "        print(f\"{model_name} eigenvalues: {eigs}\")\n",
    "        ax.scatter(eigs.real, eigs.imag, label = model_name)\n",
    "    ax.scatter(logistic.eig().real, logistic.eig().imag, marker='x', color='k', label = 'True eigenvalues')\n",
    "    ax.set_xlabel('Real part')\n",
    "    ax.set_ylabel('Imaginary part')\n",
    "    ax.legend(frameon=False, loc='lower center', bbox_to_anchor=(0, 1, 1, 0), ncol=3, fontsize=8)\n",
    "    ax.set_aspect('equal')"
   ]
  },
  {
   "cell_type": "code",
   "execution_count": null,
   "metadata": {},
   "outputs": [],
   "source": [
    "plot_eigs(reports, 3)"
   ]
  },
  {
   "cell_type": "code",
   "execution_count": null,
   "metadata": {},
   "outputs": [],
   "source": [
    "from pseudopy import NonnormalAuto\n",
    "import scipy.integrate\n",
    "N = 20\n",
    "\n",
    "def koopman_el(i: int, j: int):\n",
    "    def pairing(x):\n",
    "        return logistic.noise_feature(x, i) * logistic.noise_feature_composed_map(x, j)\n",
    "    return scipy.integrate.quad(pairing, 0, 1)[0]\n",
    "\n",
    "K = np.array([[koopman_el(i, j) for j in range(N + 1)] for i in range(N + 1)])"
   ]
  },
  {
   "cell_type": "code",
   "execution_count": null,
   "metadata": {},
   "outputs": [],
   "source": [
    "pseudo = NonnormalAuto(K, 1e-5, 1)"
   ]
  },
  {
   "cell_type": "code",
   "execution_count": null,
   "metadata": {},
   "outputs": [],
   "source": [
    "pseudo"
   ]
  },
  {
   "cell_type": "code",
   "execution_count": null,
   "metadata": {},
   "outputs": [],
   "source": [
    "pseudo.plot([10**k for k in range(-4, 0)], spectrum=logistic.eig())"
   ]
  },
  {
   "cell_type": "code",
   "execution_count": null,
   "metadata": {},
   "outputs": [],
   "source": []
  }
 ],
 "metadata": {
  "kernelspec": {
   "display_name": "kooplearn",
   "language": "python",
   "name": "python3"
  },
  "language_info": {
   "codemirror_mode": {
    "name": "ipython",
    "version": 3
   },
   "file_extension": ".py",
   "mimetype": "text/x-python",
   "name": "python",
   "nbconvert_exporter": "python",
   "pygments_lexer": "ipython3",
   "version": "3.11.5"
  },
  "orig_nbformat": 4
 },
 "nbformat": 4,
 "nbformat_minor": 2
}
