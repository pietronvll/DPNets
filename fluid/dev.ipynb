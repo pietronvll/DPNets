{
 "cells": [
  {
   "cell_type": "code",
   "execution_count": 1,
   "metadata": {},
   "outputs": [],
   "source": [
    "import torch\n",
    "import numpy as np\n",
    "from pathlib import Path\n",
    "import ml_confs as mlc\n",
    "from kooplearn.data import traj_to_contexts\n",
    "from kooplearn.nn.data import TrajToContextsDataset"
   ]
  },
  {
   "cell_type": "markdown",
   "metadata": {},
   "source": [
    "# Data loading"
   ]
  },
  {
   "cell_type": "code",
   "execution_count": 2,
   "metadata": {},
   "outputs": [],
   "source": [
    "def merge_channels(data_dict, split = 'train', subsample: int = 1) -> np.ndarray:\n",
    "    channels = [data_dict[key][:,:, None, :] for key in ['U', 'V', 'P', 'C']]\n",
    "    channels = np.concatenate(channels, axis = 2).transpose((3, 0, 1, 2)) # BHWC\n",
    "    channels = channels[:, ::subsample, ::subsample, :]\n",
    "    #Standardize each channel independently\n",
    "    mean = channels.mean(axis = (0, 1, 2), keepdims = True)\n",
    "    std = channels.std(axis = (0, 1, 2), keepdims = True)\n",
    "    channels = (channels - mean)/std\n",
    "    if split == 'train':\n",
    "        return channels[:160], (mean, std)\n",
    "    elif split == 'test':\n",
    "        return channels[160:], (mean, std)\n",
    "    else:\n",
    "        raise ValueError(f\"Unknown split {split}\")\n",
    "\n",
    "def load_data(exp_path: Path, configs: mlc.Configs):\n",
    "    with np.load(exp_path / 'data/cylinder2d_remesh.npz') as f:\n",
    "        full_data = {k: np.asarray(v) for k, v in f.items()}\n",
    "    train_ds, (mean, std) = merge_channels(full_data, split='train', subsample = configs.subsample)\n",
    "    test_ds, _ = merge_channels(full_data, split='test', subsample = configs.subsample)    \n",
    "    return train_ds, test_ds, np.squeeze(mean), np.squeeze(std)\n",
    "\n",
    "def channel_from_state(snapshots, mean, std, channel_idx = -1):\n",
    "    return snapshots[..., channel_idx]*std[channel_idx] + mean[channel_idx]"
   ]
  },
  {
   "cell_type": "code",
   "execution_count": 3,
   "metadata": {},
   "outputs": [],
   "source": [
    "exp_path = Path.cwd()\n",
    "# To be replaced with\n",
    "# exp_path = Path(__file__).parent\n",
    "configs = mlc.from_file(exp_path / 'configs.yaml', register_jax_pytree=False)"
   ]
  },
  {
   "cell_type": "code",
   "execution_count": 4,
   "metadata": {},
   "outputs": [
    {
     "name": "stdout",
     "output_type": "stream",
     "text": [
      "train_ds.shape = (160, 50, 100, 4)\n",
      "test_ds.shape = (41, 50, 100, 4)\n",
      "mean.shape = (4,)\n",
      "std.shape = (4,)\n"
     ]
    }
   ],
   "source": [
    "train_ds, test_ds, mean, std = load_data(exp_path, configs)\n",
    "print(f\"{train_ds.shape = }\\n{test_ds.shape = }\\n{mean.shape = }\\n{std.shape = }\")"
   ]
  },
  {
   "cell_type": "code",
   "execution_count": 5,
   "metadata": {},
   "outputs": [
    {
     "name": "stdout",
     "output_type": "stream",
     "text": [
      "obs_ds.shape = (160, 50, 100)\n"
     ]
    }
   ],
   "source": [
    "obs_ds = channel_from_state(train_ds, mean, std)\n",
    "print(f\"{obs_ds.shape = }\") # [n_samples, H, W]"
   ]
  },
  {
   "cell_type": "markdown",
   "metadata": {},
   "source": [
    "## `torch` model definition"
   ]
  },
  {
   "cell_type": "code",
   "execution_count": 6,
   "metadata": {},
   "outputs": [],
   "source": [
    "class MLP(torch.nn.Module):\n",
    "    def __init__(\n",
    "        self, feature_dim, layer_widths: list[int], activation=torch.nn.ReLU\n",
    "    ):\n",
    "        super().__init__()\n",
    "        self.activation = activation\n",
    "        lin_dims = [feature_dim] + layer_widths\n",
    "        layers = []\n",
    "        for i in range(len(layer_widths)):\n",
    "            layers.append(torch.nn.Linear(lin_dims[i], lin_dims[i+1], bias=True))\n",
    "            layers.append(activation())\n",
    "        #Remove last activation\n",
    "        layers.pop() \n",
    "        self.layers = torch.nn.ModuleList(layers)\n",
    "\n",
    "    def forward(self, x):\n",
    "        # Flatten input\n",
    "        x = x.view(x.shape[0], -1)\n",
    "        for layer in self.layers:\n",
    "            x = layer(x)\n",
    "        return x\n",
    "    \n",
    "class MLP_r(torch.nn.Module):\n",
    "    def __init__(\n",
    "        self, feature_dim, layer_widths: list[int], input_dims: tuple, activation=torch.nn.ReLU\n",
    "    ):\n",
    "        super().__init__()\n",
    "        self.activation = activation\n",
    "        lin_dims = np.flip([feature_dim] + layer_widths).tolist()\n",
    "        layers = []\n",
    "        for i in range(len(layer_widths)):\n",
    "            layers.append(torch.nn.Linear(lin_dims[i], lin_dims[i+1], bias=True))\n",
    "            layers.append(activation())\n",
    "        #Remove last activation\n",
    "        layers.pop() \n",
    "        self.layers = torch.nn.ModuleList(layers)\n",
    "        self.input_dims = input_dims\n",
    "\n",
    "    def forward(self, x):\n",
    "        for layer in self.layers:\n",
    "            x = layer(x)\n",
    "        # Restore dimensions\n",
    "        x = x.view(x.shape[0], *self.input_dims)\n",
    "        return x"
   ]
  },
  {
   "cell_type": "code",
   "execution_count": 7,
   "metadata": {},
   "outputs": [],
   "source": [
    "trail_dims = train_ds.shape[1:]\n",
    "#Encoder\n",
    "model = MLP(np.prod(trail_dims), configs.layer_widths)\n",
    "#Decoder\n",
    "model_r = MLP_r(np.prod(trail_dims), configs.layer_widths, trail_dims)"
   ]
  },
  {
   "cell_type": "code",
   "execution_count": 8,
   "metadata": {},
   "outputs": [
    {
     "name": "stdout",
     "output_type": "stream",
     "text": [
      "Trainable parameters: 3824064\n",
      "Trainable parameters: 3844000\n"
     ]
    }
   ],
   "source": [
    "# Model summary\n",
    "print(f\"Trainable parameters: {sum(p.numel() for p in model.parameters() if p.requires_grad)}\")\n",
    "print(f\"Trainable parameters: {sum(p.numel() for p in model_r.parameters() if p.requires_grad)}\")"
   ]
  },
  {
   "cell_type": "code",
   "execution_count": 9,
   "metadata": {},
   "outputs": [
    {
     "name": "stdout",
     "output_type": "stream",
     "text": [
      "torch.Size([100, 50, 100, 4])\n",
      "torch.Size([100, 64])\n",
      "torch.Size([100, 50, 100, 4])\n"
     ]
    }
   ],
   "source": [
    "x = torch.from_numpy(train_ds[:100]).float()\n",
    "print(x.shape)\n",
    "y = model(x)\n",
    "print(y.shape)\n",
    "z = model_r(y)\n",
    "print(z.shape)"
   ]
  },
  {
   "cell_type": "markdown",
   "metadata": {},
   "source": [
    "## Evaluation"
   ]
  },
  {
   "cell_type": "code",
   "execution_count": 11,
   "metadata": {},
   "outputs": [],
   "source": [
    "from kooplearn.abc import BaseModel\n",
    "\n",
    "def evaluate(model: BaseModel, exp_path: Path, configs: mlc.Configs):\n",
    "    train_ds, test_ds, mean, std = load_data(exp_path, configs)\n",
    "\n",
    "    lookback_len = model.lookback_len\n",
    "    # Initial condition - last training point\n",
    "    init = np.expand_dims(train_ds[-1:], 1)\n",
    "    init = np.concatenate([init for _ in range(lookback_len)], axis = 1)\n",
    "    def obs_fn(x):\n",
    "        return channel_from_state(x, mean, std)\n",
    "    #Predict\n",
    "    ref = channel_from_state(test_ds, mean, std)\n",
    "    #MSE\n",
    "    mse = []\n",
    "    for t in range(len(test_ds)):\n",
    "        pred = model.predict(init, t = t, observables=obs_fn)\n",
    "        mse.append(np.mean((pred - ref[t])**2))\n",
    "    return np.sqrt(mse)"
   ]
  },
  {
   "cell_type": "markdown",
   "metadata": {},
   "source": [
    "## Data preparation"
   ]
  },
  {
   "cell_type": "code",
   "execution_count": 22,
   "metadata": {},
   "outputs": [
    {
     "name": "stderr",
     "output_type": "stream",
     "text": [
      "The provided trajectory is of type <class 'numpy.ndarray'>. Converting to torch.Tensor.\n"
     ]
    }
   ],
   "source": [
    "#Numpy\n",
    "np_train = traj_to_contexts(train_ds).astype(np.float32)\n",
    "#Torch\n",
    "torch_train = TrajToContextsDataset(train_ds.astype(np.float32))\n",
    "torch_dl = torch.utils.data.DataLoader(torch_train, batch_size = len(torch_train), shuffle = True)\n",
    "# Data info\n",
    "trail_dims = torch_train.contexts.shape[2:]"
   ]
  },
  {
   "cell_type": "code",
   "execution_count": 26,
   "metadata": {},
   "outputs": [],
   "source": [
    "rank = 16\n",
    "RMSE = {}"
   ]
  },
  {
   "cell_type": "code",
   "execution_count": 27,
   "metadata": {},
   "outputs": [],
   "source": [
    "from kooplearn.models import KernelDMD #Using the dual as it is faster in this setting \n",
    "from sklearn.metrics.pairwise import polynomial_kernel\n",
    "\n",
    "#DMD\n",
    "model = KernelDMD(lambda x, y: polynomial_kernel(x, y, degree = 1), rank=rank, reduced_rank=False, svd_solver='arnoldi')\n",
    "model.fit(np_train, verbose=False)\n",
    "\n",
    "RMSE['DMD'] = evaluate(model, exp_path, configs)\n",
    "\n",
    "#EctendedDMD-Poly3\n",
    "model = KernelDMD(lambda x, y: polynomial_kernel(x, y, degree = 3), rank=rank, reduced_rank=False, svd_solver='arnoldi')\n",
    "model.fit(np_train, verbose=False)\n",
    "\n",
    "RMSE['Poly3'] = evaluate(model, exp_path, configs)"
   ]
  },
  {
   "cell_type": "markdown",
   "metadata": {},
   "source": [
    "## Deep-learning methods"
   ]
  },
  {
   "cell_type": "code",
   "execution_count": 56,
   "metadata": {},
   "outputs": [],
   "source": [
    "import lightning\n",
    "from kooplearn.abc import TrainableFeatureMap\n",
    "from typing import Union\n",
    "opt = torch.optim.Adam\n",
    "\n",
    "def tune_learning_rate(\n",
    "    trainer: lightning.Trainer,\n",
    "    model: Union[BaseModel, TrainableFeatureMap],\n",
    "    train_dataloader: torch.utils.data.DataLoader,\n",
    "):\n",
    "    # See https://lightning.ai/docs/pytorch/stable/api/lightning.pytorch.tuner.tuning.Tuner.html#lightning.pytorch.tuner.tuning.Tuner.lr_find for an explanation of how the lr is chosen\n",
    "    tuner = lightning.pytorch.tuner.Tuner(trainer)\n",
    "    # Run learning rate finder\n",
    "    lr_finder = tuner.lr_find(\n",
    "        model.lightning_module,\n",
    "        train_dataloaders=train_dataloader,\n",
    "        min_lr=1e-6,\n",
    "        max_lr=1e-3,\n",
    "        num_training=50,\n",
    "        early_stop_threshold=None,\n",
    "        update_attr=True,\n",
    "    )\n",
    "    return lr_finder.suggestion()\n",
    "\n",
    "# Init fn\n",
    "def kaiming_init(model, trail_dims):\n",
    "    feature_dim = np.prod(trail_dims)\n",
    "    for p in model.parameters():\n",
    "        psh = p.shape\n",
    "        if len(psh) == 2:  # Linear layers\n",
    "            _, in_shape = psh\n",
    "            if in_shape == feature_dim:  # Initial layer\n",
    "                torch.nn.init.uniform_(p, -1, 1)\n",
    "            else:\n",
    "                acname = model.activation.__name__.lower()\n",
    "                if acname == \"leakyrelu\":\n",
    "                    acname = \"leaky_relu\"\n",
    "                torch.nn.init.kaiming_uniform_(p, a=1, nonlinearity=acname)\n",
    "        else:  # Bias\n",
    "            torch.nn.init.zeros_(p)\n",
    "def svd_init(model, trail_dims, Vh):\n",
    "    feature_dim = np.prod(trail_dims)\n",
    "    for p in model.parameters():\n",
    "        psh = p.shape\n",
    "        if len(psh) == 2:  # Linear layers\n",
    "            out_shape, in_shape = psh\n",
    "            if in_shape == feature_dim:  # Initial layer\n",
    "                p.data = torch.from_numpy(Vh[:out_shape])\n",
    "            else:\n",
    "                acname = model.activation.__name__.lower()\n",
    "                if acname == \"leakyrelu\":\n",
    "                    acname = \"leaky_relu\"\n",
    "                torch.nn.init.kaiming_uniform_(p, a=1, nonlinearity=acname)\n",
    "        else:  # Bias\n",
    "            torch.nn.init.zeros_(p)\n"
   ]
  },
  {
   "cell_type": "markdown",
   "metadata": {},
   "source": [
    "## DPNets"
   ]
  },
  {
   "cell_type": "code",
   "execution_count": 82,
   "metadata": {},
   "outputs": [
    {
     "name": "stderr",
     "output_type": "stream",
     "text": [
      "GPU available: True (cuda), used: True\n",
      "TPU available: False, using: 0 TPU cores\n",
      "IPU available: False, using: 0 IPUs\n",
      "HPU available: False, using: 0 HPUs\n",
      "Global seed set to 0\n"
     ]
    }
   ],
   "source": [
    "from kooplearn.models.feature_maps import DPNet\n",
    "from lightning import Trainer\n",
    "\n",
    "trkw = {\n",
    "    'accelerator': 'gpu',\n",
    "    'devices': 1,\n",
    "    'max_epochs': configs.max_epochs,\n",
    "    \"enable_checkpointing\": False,\n",
    "    \"logger\": False,\n",
    "}\n",
    "\n",
    "trainer = Trainer(**trkw)\n",
    "\n",
    "fmap = DPNet(\n",
    "    MLP,\n",
    "    opt, {'lr': 0.00002451},\n",
    "    trainer,\n",
    "    use_relaxed_loss=True,\n",
    "    encoder_kwargs={'feature_dim': np.prod(trail_dims), 'layer_widths': configs.layer_widths},\n",
    "    center_covariances=False,\n",
    "    seed = configs.rng_seed\n",
    ")"
   ]
  },
  {
   "cell_type": "code",
   "execution_count": 83,
   "metadata": {},
   "outputs": [],
   "source": [
    "# Init\n",
    "_, _, Vh = np.linalg.svd(train_ds.reshape(train_ds.shape[0], -1), full_matrices=False)\n",
    "Vh = Vh.astype(np.float32)\n",
    "svd_init(fmap.lightning_module.encoder, trail_dims, Vh)"
   ]
  },
  {
   "cell_type": "code",
   "execution_count": 84,
   "metadata": {},
   "outputs": [
    {
     "name": "stderr",
     "output_type": "stream",
     "text": [
      "LOCAL_RANK: 0 - CUDA_VISIBLE_DEVICES: [0,1]\n"
     ]
    },
    {
     "data": {
      "application/vnd.jupyter.widget-view+json": {
       "model_id": "01711cc839704502950142fd11274f51",
       "version_major": 2,
       "version_minor": 0
      },
      "text/plain": [
       "Finding best initial lr:   0%|          | 0/50 [00:00<?, ?it/s]"
      ]
     },
     "metadata": {},
     "output_type": "display_data"
    },
    {
     "name": "stderr",
     "output_type": "stream",
     "text": [
      "`Trainer.fit` stopped: `max_steps=50` reached.\n",
      "Learning rate set to 1.8197008586099834e-05\n",
      "Restoring states from the checkpoint path at /home/novelli/dp_examples/fluid/.lr_find_eda91406-d1d2-4bc9-839b-dd91efc85e96.ckpt\n",
      "Restored all states from the checkpoint at /home/novelli/dp_examples/fluid/.lr_find_eda91406-d1d2-4bc9-839b-dd91efc85e96.ckpt\n",
      "LOCAL_RANK: 0 - CUDA_VISIBLE_DEVICES: [0,1]\n",
      "\n",
      "  | Name    | Type | Params\n",
      "---------------------------------\n",
      "0 | encoder | MLP  | 3.8 M \n",
      "---------------------------------\n",
      "3.8 M     Trainable params\n",
      "0         Non-trainable params\n",
      "3.8 M     Total params\n",
      "15.296    Total estimated model params size (MB)\n"
     ]
    },
    {
     "name": "stdout",
     "output_type": "stream",
     "text": [
      "Fitting DPNet. Lookback window length set to 1\n"
     ]
    },
    {
     "data": {
      "application/vnd.jupyter.widget-view+json": {
       "model_id": "32a3c1b6ec34416b87bcae16b80e4e88",
       "version_major": 2,
       "version_minor": 0
      },
      "text/plain": [
       "Training: 0it [00:00, ?it/s]"
      ]
     },
     "metadata": {},
     "output_type": "display_data"
    }
   ],
   "source": [
    "#Choose learning rate\n",
    "lr = tune_learning_rate(trainer, fmap, torch_dl)\n",
    "assert fmap.lightning_module.lr == lr  \n",
    "fmap.fit(torch_dl)"
   ]
  },
  {
   "cell_type": "code",
   "execution_count": 85,
   "metadata": {},
   "outputs": [
    {
     "data": {
      "text/plain": [
       "<kooplearn.models.deepedmd.DeepEDMD at 0x7fe441499e90>"
      ]
     },
     "execution_count": 85,
     "metadata": {},
     "output_type": "execute_result"
    }
   ],
   "source": [
    "from kooplearn.models import DeepEDMD\n",
    "model = DeepEDMD(fmap, reduced_rank=False, rank=64,  svd_solver='arnoldi')\n",
    "model.fit(np_train, verbose=False)"
   ]
  },
  {
   "cell_type": "code",
   "execution_count": 86,
   "metadata": {},
   "outputs": [],
   "source": [
    "RMSE['DeepEDMD'] = evaluate(model, exp_path, configs)"
   ]
  },
  {
   "cell_type": "code",
   "execution_count": 87,
   "metadata": {},
   "outputs": [
    {
     "data": {
      "text/plain": [
       "<matplotlib.legend.Legend at 0x7fe4314dd6d0>"
      ]
     },
     "execution_count": 87,
     "metadata": {},
     "output_type": "execute_result"
    },
    {
     "data": {
      "image/png": "[encoded data removed]",
      "text/plain": [
       "<Figure size 640x480 with 1 Axes>"
      ]
     },
     "metadata": {},
     "output_type": "display_data"
    }
   ],
   "source": [
    "import matplotlib.pyplot as plt\n",
    "\n",
    "fig, ax = plt.subplots()\n",
    "for model in RMSE:\n",
    "    ax.plot(RMSE[model], label = model)\n",
    "ax.set_yscale('log')\n",
    "ax.legend()"
   ]
  },
  {
   "cell_type": "code",
   "execution_count": null,
   "metadata": {},
   "outputs": [],
   "source": []
  }
 ],
 "metadata": {
  "kernelspec": {
   "display_name": "kooplearn",
   "language": "python",
   "name": "python3"
  },
  "language_info": {
   "codemirror_mode": {
    "name": "ipython",
    "version": 3
   },
   "file_extension": ".py",
   "mimetype": "text/x-python",
   "name": "python",
   "nbconvert_exporter": "python",
   "pygments_lexer": "ipython3",
   "version": "3.11.5"
  },
  "orig_nbformat": 4
 },
 "nbformat": 4,
 "nbformat_minor": 2
}
