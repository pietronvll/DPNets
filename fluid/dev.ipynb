{
 "cells": [
  {
   "cell_type": "code",
   "execution_count": 1,
   "metadata": {},
   "outputs": [],
   "source": [
    "import torch\n",
    "import numpy as np\n",
    "from pathlib import Path\n",
    "import ml_confs as mlc\n",
    "from kooplearn.data import traj_to_contexts\n",
    "from kooplearn.nn.data import TrajToContextsDataset"
   ]
  },
  {
   "cell_type": "markdown",
   "metadata": {},
   "source": [
    "# Data loading"
   ]
  },
  {
   "cell_type": "code",
   "execution_count": 2,
   "metadata": {},
   "outputs": [],
   "source": [
    "def merge_channels(data_dict, split = 'train', subsample: int = 1) -> np.ndarray:\n",
    "    channels = [data_dict[key][:,:, None, :] for key in ['U', 'V', 'P', 'C']]\n",
    "    channels = np.concatenate(channels, axis = 2).transpose((3, 0, 1, 2)) # BHWC\n",
    "    channels = channels[:, ::subsample, ::subsample, :]\n",
    "    #Standardize each channel independently\n",
    "    mean = channels.mean(axis = (0, 1, 2), keepdims = True)\n",
    "    std = channels.std(axis = (0, 1, 2), keepdims = True)\n",
    "    channels = (channels - mean)/std\n",
    "    if split == 'train':\n",
    "        return channels[:160], (mean, std)\n",
    "    elif split == 'test':\n",
    "        return channels[160:], (mean, std)\n",
    "    else:\n",
    "        raise ValueError(f\"Unknown split {split}\")\n",
    "\n",
    "def load_data(exp_path: Path, configs: mlc.Configs):\n",
    "    with np.load(exp_path / 'data/cylinder2d_remesh.npz') as f:\n",
    "        full_data = {k: np.asarray(v) for k, v in f.items()}\n",
    "    train_ds, (mean, std) = merge_channels(full_data, split='train', subsample = configs.subsample)\n",
    "    test_ds, _ = merge_channels(full_data, split='test', subsample = configs.subsample)    \n",
    "    return train_ds, test_ds, np.squeeze(mean), np.squeeze(std)\n",
    "\n",
    "def channel_from_state(snapshots, mean, std, channel_idx = -1):\n",
    "    return snapshots[..., channel_idx]*std[channel_idx] + mean[channel_idx]"
   ]
  },
  {
   "cell_type": "code",
   "execution_count": 3,
   "metadata": {},
   "outputs": [],
   "source": [
    "exp_path = Path.cwd()\n",
    "# To be replaced with\n",
    "# exp_path = Path(__file__).parent\n",
    "configs = mlc.from_file(exp_path / 'configs.yaml', register_jax_pytree=False)"
   ]
  },
  {
   "cell_type": "code",
   "execution_count": 4,
   "metadata": {},
   "outputs": [
    {
     "name": "stdout",
     "output_type": "stream",
     "text": [
      "train_ds.shape = (160, 50, 100, 4)\n",
      "test_ds.shape = (41, 50, 100, 4)\n",
      "mean.shape = (4,)\n",
      "std.shape = (4,)\n"
     ]
    }
   ],
   "source": [
    "train_ds, test_ds, mean, std = load_data(exp_path, configs)\n",
    "print(f\"{train_ds.shape = }\\n{test_ds.shape = }\\n{mean.shape = }\\n{std.shape = }\")"
   ]
  },
  {
   "cell_type": "code",
   "execution_count": 5,
   "metadata": {},
   "outputs": [
    {
     "name": "stdout",
     "output_type": "stream",
     "text": [
      "obs_ds.shape = (160, 50, 100)\n"
     ]
    }
   ],
   "source": [
    "obs_ds = channel_from_state(train_ds, mean, std)\n",
    "print(f\"{obs_ds.shape = }\") # [n_samples, H, W]"
   ]
  },
  {
   "cell_type": "markdown",
   "metadata": {},
   "source": [
    "## `torch` model definition"
   ]
  },
  {
   "cell_type": "code",
   "execution_count": 6,
   "metadata": {},
   "outputs": [],
   "source": [
    "class MLP(torch.nn.Module):\n",
    "    def __init__(\n",
    "        self, feature_dim, layer_widths: list[int], activation=torch.nn.ReLU\n",
    "    ):\n",
    "        super().__init__()\n",
    "        self.activation = activation\n",
    "        lin_dims = [feature_dim] + layer_widths\n",
    "        layers = []\n",
    "        for i in range(len(layer_widths)):\n",
    "            layers.append(torch.nn.Linear(lin_dims[i], lin_dims[i+1], bias=True))\n",
    "            layers.append(activation())\n",
    "        #Remove last activation\n",
    "        layers.pop() \n",
    "        self.layers = torch.nn.ModuleList(layers)\n",
    "\n",
    "    def forward(self, x):\n",
    "        # Flatten input\n",
    "        x = x.view(x.shape[0], -1)\n",
    "        for layer in self.layers:\n",
    "            x = layer(x)\n",
    "        return x\n",
    "    \n",
    "class MLP_r(torch.nn.Module):\n",
    "    def __init__(\n",
    "        self, feature_dim, layer_widths: list[int], input_dims: tuple, activation=torch.nn.ReLU\n",
    "    ):\n",
    "        super().__init__()\n",
    "        self.activation = activation\n",
    "        lin_dims = np.flip([feature_dim] + layer_widths).tolist()\n",
    "        layers = []\n",
    "        for i in range(len(layer_widths)):\n",
    "            layers.append(torch.nn.Linear(lin_dims[i], lin_dims[i+1], bias=True))\n",
    "            layers.append(activation())\n",
    "        #Remove last activation\n",
    "        layers.pop() \n",
    "        self.layers = torch.nn.ModuleList(layers)\n",
    "        self.input_dims = input_dims\n",
    "\n",
    "    def forward(self, x):\n",
    "        for layer in self.layers:\n",
    "            x = layer(x)\n",
    "        # Restore dimensions\n",
    "        x = x.view(x.shape[0], *self.input_dims)\n",
    "        return x"
   ]
  },
  {
   "cell_type": "code",
   "execution_count": 7,
   "metadata": {},
   "outputs": [],
   "source": [
    "trail_dims = train_ds.shape[1:]\n",
    "#Encoder\n",
    "model = MLP(np.prod(trail_dims), configs.layer_widths)\n",
    "#Decoder\n",
    "model_r = MLP_r(np.prod(trail_dims), configs.layer_widths, trail_dims)"
   ]
  },
  {
   "cell_type": "code",
   "execution_count": 8,
   "metadata": {},
   "outputs": [
    {
     "name": "stdout",
     "output_type": "stream",
     "text": [
      "Trainable parameters: 3824064\n",
      "Trainable parameters: 3844000\n"
     ]
    }
   ],
   "source": [
    "# Model summary\n",
    "print(f\"Trainable parameters: {sum(p.numel() for p in model.parameters() if p.requires_grad)}\")\n",
    "print(f\"Trainable parameters: {sum(p.numel() for p in model_r.parameters() if p.requires_grad)}\")"
   ]
  },
  {
   "cell_type": "code",
   "execution_count": 9,
   "metadata": {},
   "outputs": [
    {
     "name": "stdout",
     "output_type": "stream",
     "text": [
      "torch.Size([100, 50, 100, 4])\n",
      "torch.Size([100, 64])\n",
      "torch.Size([100, 50, 100, 4])\n"
     ]
    }
   ],
   "source": [
    "x = torch.from_numpy(train_ds[:100]).float()\n",
    "print(x.shape)\n",
    "y = model(x)\n",
    "print(y.shape)\n",
    "z = model_r(y)\n",
    "print(z.shape)"
   ]
  },
  {
   "cell_type": "markdown",
   "metadata": {},
   "source": [
    "## Evaluation"
   ]
  },
  {
   "cell_type": "code",
   "execution_count": 10,
   "metadata": {},
   "outputs": [],
   "source": [
    "from kooplearn.abc import BaseModel\n",
    "\n",
    "def evaluate(model: BaseModel, exp_path: Path, configs: mlc.Configs):\n",
    "    train_ds, test_ds, mean, std = load_data(exp_path, configs)\n",
    "\n",
    "    lookback_len = model.lookback_len\n",
    "    # Initial condition - last training point\n",
    "    init = np.expand_dims(train_ds[-1:], 1)\n",
    "    init = np.concatenate([init for _ in range(lookback_len)], axis = 1)\n",
    "    def obs_fn(x):\n",
    "        return channel_from_state(x, mean, std)\n",
    "    #Predict\n",
    "    ref = channel_from_state(test_ds, mean, std)\n",
    "    #MSE\n",
    "    mse = []\n",
    "    for t in range(len(test_ds)):\n",
    "        pred = model.predict(init, t = t, observables=obs_fn)\n",
    "        mse.append(np.mean((pred - ref[t])**2))\n",
    "    return np.sqrt(mse)"
   ]
  },
  {
   "cell_type": "markdown",
   "metadata": {},
   "source": [
    "## Data preparation"
   ]
  },
  {
   "cell_type": "code",
   "execution_count": 11,
   "metadata": {},
   "outputs": [
    {
     "name": "stderr",
     "output_type": "stream",
     "text": [
      "The provided trajectory is of type <class 'numpy.ndarray'>. Converting to torch.Tensor.\n"
     ]
    }
   ],
   "source": [
    "#Numpy\n",
    "np_train = traj_to_contexts(train_ds).astype(np.float32)\n",
    "#Torch\n",
    "torch_train = TrajToContextsDataset(train_ds.astype(np.float32))\n",
    "torch_dl = torch.utils.data.DataLoader(torch_train, batch_size = len(torch_train), shuffle = True)\n",
    "# Data info\n",
    "trail_dims = torch_train.contexts.shape[2:]"
   ]
  },
  {
   "cell_type": "code",
   "execution_count": 51,
   "metadata": {},
   "outputs": [],
   "source": [
    "rank = 64\n",
    "RMSE = {}"
   ]
  },
  {
   "cell_type": "code",
   "execution_count": 52,
   "metadata": {},
   "outputs": [],
   "source": [
    "from kooplearn.models import KernelDMD #Using the dual as it is faster in this setting \n",
    "from sklearn.metrics.pairwise import polynomial_kernel\n",
    "\n",
    "#DMD\n",
    "model = KernelDMD(lambda x, y: polynomial_kernel(x, y, degree = 1), rank=rank, reduced_rank=False, tikhonov_reg=1e-5)\n",
    "model.fit(np_train, verbose=False)\n",
    "\n",
    "RMSE['DMD'] = evaluate(model, exp_path, configs)\n",
    "\n",
    "#ExtendedDMD-Poly3\n",
    "model = KernelDMD(lambda x, y: polynomial_kernel(x, y, degree = 3), rank=rank, reduced_rank=False,  tikhonov_reg=1e-5)\n",
    "model.fit(np_train, verbose=False)\n",
    "\n",
    "RMSE['Poly3'] = evaluate(model, exp_path, configs)"
   ]
  },
  {
   "cell_type": "markdown",
   "metadata": {},
   "source": [
    "## Deep-learning methods"
   ]
  },
  {
   "cell_type": "code",
   "execution_count": 53,
   "metadata": {},
   "outputs": [],
   "source": [
    "import lightning\n",
    "from kooplearn.abc import TrainableFeatureMap\n",
    "from typing import Union\n",
    "opt = torch.optim.Adam\n",
    "\n",
    "def tune_learning_rate(\n",
    "    trainer: lightning.Trainer,\n",
    "    model: Union[BaseModel, TrainableFeatureMap],\n",
    "    train_dataloader: torch.utils.data.DataLoader,\n",
    "):\n",
    "    # See https://lightning.ai/docs/pytorch/stable/api/lightning.pytorch.tuner.tuning.Tuner.html#lightning.pytorch.tuner.tuning.Tuner.lr_find for an explanation of how the lr is chosen\n",
    "    tuner = lightning.pytorch.tuner.Tuner(trainer)\n",
    "    # Run learning rate finder\n",
    "    lr_finder = tuner.lr_find(\n",
    "        model.lightning_module,\n",
    "        train_dataloaders=train_dataloader,\n",
    "        min_lr=1e-6,\n",
    "        max_lr=1e-3,\n",
    "        num_training=50,\n",
    "        early_stop_threshold=None,\n",
    "        update_attr=True,\n",
    "    )\n",
    "    return lr_finder.suggestion()\n",
    "\n",
    "# Init fn\n",
    "def kaiming_init(model, trail_dims):\n",
    "    feature_dim = np.prod(trail_dims)\n",
    "    for p in model.parameters():\n",
    "        psh = p.shape\n",
    "        if len(psh) == 2:  # Linear layers\n",
    "            _, in_shape = psh\n",
    "            if in_shape == feature_dim:  # Initial layer\n",
    "                torch.nn.init.uniform_(p, -1, 1)\n",
    "            else:\n",
    "                acname = model.activation.__name__.lower()\n",
    "                if acname == \"leakyrelu\":\n",
    "                    acname = \"leaky_relu\"\n",
    "                torch.nn.init.kaiming_uniform_(p, a=1, nonlinearity=acname)\n",
    "        else:  # Bias\n",
    "            torch.nn.init.zeros_(p)\n",
    "def svd_init(model, trail_dims, Vh):\n",
    "    feature_dim = np.prod(trail_dims)\n",
    "    for p in model.parameters():\n",
    "        psh = p.shape\n",
    "        if len(psh) == 2:  # Linear layers\n",
    "            out_shape, in_shape = psh\n",
    "            if in_shape == feature_dim:  # Initial layer\n",
    "                p.data = torch.from_numpy(Vh[:out_shape])\n",
    "            else:\n",
    "                acname = model.activation.__name__.lower()\n",
    "                if acname == \"leakyrelu\":\n",
    "                    acname = \"leaky_relu\"\n",
    "                torch.nn.init.kaiming_uniform_(p, a=1, nonlinearity=acname)\n",
    "        else:  # Bias\n",
    "            torch.nn.init.zeros_(p)\n"
   ]
  },
  {
   "cell_type": "markdown",
   "metadata": {},
   "source": [
    "## DynamicalAE"
   ]
  },
  {
   "cell_type": "code",
   "execution_count": 54,
   "metadata": {},
   "outputs": [
    {
     "name": "stderr",
     "output_type": "stream",
     "text": [
      "GPU available: True (cuda), used: True\n",
      "TPU available: False, using: 0 TPU cores\n",
      "IPU available: False, using: 0 IPUs\n",
      "HPU available: False, using: 0 HPUs\n",
      "Global seed set to 0\n",
      "LOCAL_RANK: 0 - CUDA_VISIBLE_DEVICES: [0,1]\n",
      "/home/novelli/anaconda3/envs/kooplearn/lib/python3.11/site-packages/lightning/pytorch/trainer/connectors/data_connector.py:442: PossibleUserWarning: The dataloader, train_dataloader, does not have many workers which may be a bottleneck. Consider increasing the value of the `num_workers` argument` (try 20 which is the number of cpus on this machine) in the `DataLoader` init to improve performance.\n",
      "  rank_zero_warn(\n"
     ]
    },
    {
     "data": {
      "application/vnd.jupyter.widget-view+json": {
       "model_id": "e149f0288e9d441d93009500155a8bb0",
       "version_major": 2,
       "version_minor": 0
      },
      "text/plain": [
       "Finding best initial lr:   0%|          | 0/50 [00:00<?, ?it/s]"
      ]
     },
     "metadata": {},
     "output_type": "display_data"
    },
    {
     "name": "stderr",
     "output_type": "stream",
     "text": [
      "/home/novelli/anaconda3/envs/kooplearn/lib/python3.11/site-packages/lightning/pytorch/core/module.py:490: UserWarning: You called `self.log('train/reconstruction_loss', ..., logger=True)` but have no logger configured. You can enable one by doing `Trainer(logger=ALogger(...))`\n",
      "  rank_zero_warn(\n",
      "/home/novelli/anaconda3/envs/kooplearn/lib/python3.11/site-packages/lightning/pytorch/core/module.py:490: UserWarning: You called `self.log('train/prediction_loss', ..., logger=True)` but have no logger configured. You can enable one by doing `Trainer(logger=ALogger(...))`\n",
      "  rank_zero_warn(\n",
      "/home/novelli/anaconda3/envs/kooplearn/lib/python3.11/site-packages/lightning/pytorch/core/module.py:490: UserWarning: You called `self.log('train/linear_loss', ..., logger=True)` but have no logger configured. You can enable one by doing `Trainer(logger=ALogger(...))`\n",
      "  rank_zero_warn(\n",
      "/home/novelli/anaconda3/envs/kooplearn/lib/python3.11/site-packages/lightning/pytorch/core/module.py:490: UserWarning: You called `self.log('train/full_loss', ..., logger=True)` but have no logger configured. You can enable one by doing `Trainer(logger=ALogger(...))`\n",
      "  rank_zero_warn(\n",
      "`Trainer.fit` stopped: `max_steps=50` reached.\n",
      "Learning rate set to 0.0008709635899560806\n",
      "Restoring states from the checkpoint path at /home/novelli/dp_examples/fluid/.lr_find_40333f87-42a4-407f-b6b1-aae4a40c1a28.ckpt\n",
      "Restored all states from the checkpoint at /home/novelli/dp_examples/fluid/.lr_find_40333f87-42a4-407f-b6b1-aae4a40c1a28.ckpt\n",
      "LOCAL_RANK: 0 - CUDA_VISIBLE_DEVICES: [0,1]\n",
      "\n",
      "  | Name    | Type   | Params\n",
      "-----------------------------------\n",
      "0 | encoder | MLP    | 3.8 M \n",
      "1 | decoder | MLP_r  | 3.8 M \n",
      "2 | _lin    | Linear | 4.1 K \n",
      "-----------------------------------\n",
      "7.7 M     Trainable params\n",
      "0         Non-trainable params\n",
      "7.7 M     Total params\n",
      "30.689    Total estimated model params size (MB)\n"
     ]
    },
    {
     "data": {
      "application/vnd.jupyter.widget-view+json": {
       "model_id": "a887dde74ae647339b2b0b25107f0708",
       "version_major": 2,
       "version_minor": 0
      },
      "text/plain": [
       "Training: 0it [00:00, ?it/s]"
      ]
     },
     "metadata": {},
     "output_type": "display_data"
    },
    {
     "name": "stderr",
     "output_type": "stream",
     "text": [
      "`Trainer.fit` stopped: `max_epochs=5000` reached.\n"
     ]
    }
   ],
   "source": [
    "from kooplearn.models import DynamicAE\n",
    "from lightning import Trainer\n",
    "\n",
    "trkw = {\n",
    "    'accelerator': 'gpu',\n",
    "    'devices': 1,\n",
    "    'max_epochs': configs.max_epochs,\n",
    "    \"enable_checkpointing\": False,\n",
    "    \"logger\": False,\n",
    "}\n",
    "\n",
    "trainer = Trainer(**trkw)\n",
    "\n",
    "model = DynamicAE(\n",
    "    MLP,\n",
    "    MLP_r,\n",
    "    configs.layer_widths[-1],\n",
    "    opt, {'lr': 1e-3},\n",
    "    trainer,\n",
    "    encoder_kwargs={'feature_dim': np.prod(trail_dims), 'layer_widths': configs.layer_widths},\n",
    "    decoder_kwargs={'feature_dim': np.prod(trail_dims), 'layer_widths': configs.layer_widths, 'input_dims': trail_dims},\n",
    "    seed = configs.rng_seed\n",
    ")\n",
    "\n",
    "#Choose learning rate\n",
    "lr = tune_learning_rate(trainer, model, torch_dl)\n",
    "assert model.lightning_module.lr == lr  \n",
    "model.fit(torch_dl)\n",
    "\n",
    "#Evaluate Model\n",
    "RMSE['DynamicalAE'] = evaluate(model, exp_path, configs)"
   ]
  },
  {
   "cell_type": "markdown",
   "metadata": {},
   "source": [
    "## ConsistentAE"
   ]
  },
  {
   "cell_type": "code",
   "execution_count": 55,
   "metadata": {},
   "outputs": [
    {
     "name": "stderr",
     "output_type": "stream",
     "text": [
      "GPU available: True (cuda), used: True\n",
      "TPU available: False, using: 0 TPU cores\n",
      "IPU available: False, using: 0 IPUs\n",
      "HPU available: False, using: 0 HPUs\n",
      "Global seed set to 0\n"
     ]
    },
    {
     "name": "stderr",
     "output_type": "stream",
     "text": [
      "The provided trajectory is of type <class 'numpy.ndarray'>. Converting to torch.Tensor.\n",
      "LOCAL_RANK: 0 - CUDA_VISIBLE_DEVICES: [0,1]\n"
     ]
    },
    {
     "data": {
      "application/vnd.jupyter.widget-view+json": {
       "model_id": "db1ce0fdd7164e659f1a272354258a97",
       "version_major": 2,
       "version_minor": 0
      },
      "text/plain": [
       "Finding best initial lr:   0%|          | 0/50 [00:00<?, ?it/s]"
      ]
     },
     "metadata": {},
     "output_type": "display_data"
    },
    {
     "name": "stderr",
     "output_type": "stream",
     "text": [
      "/home/novelli/anaconda3/envs/kooplearn/lib/python3.11/site-packages/lightning/pytorch/core/module.py:490: UserWarning: You called `self.log('train/backward_prediction_loss', ..., logger=True)` but have no logger configured. You can enable one by doing `Trainer(logger=ALogger(...))`\n",
      "  rank_zero_warn(\n",
      "`Trainer.fit` stopped: `max_steps=50` reached.\n",
      "Learning rate set to 0.0008709635899560806\n",
      "Restoring states from the checkpoint path at /home/novelli/dp_examples/fluid/.lr_find_78b85701-4095-4d7e-816a-316ac33fcb6c.ckpt\n",
      "Restored all states from the checkpoint at /home/novelli/dp_examples/fluid/.lr_find_78b85701-4095-4d7e-816a-316ac33fcb6c.ckpt\n",
      "LOCAL_RANK: 0 - CUDA_VISIBLE_DEVICES: [0,1]\n",
      "\n",
      "  | Name     | Type   | Params\n",
      "------------------------------------\n",
      "0 | encoder  | MLP    | 3.8 M \n",
      "1 | decoder  | MLP_r  | 3.8 M \n",
      "2 | _lin     | Linear | 4.1 K \n",
      "3 | _bwd_lin | Linear | 4.1 K \n",
      "------------------------------------\n",
      "7.7 M     Trainable params\n",
      "0         Non-trainable params\n",
      "7.7 M     Total params\n",
      "30.705    Total estimated model params size (MB)\n"
     ]
    },
    {
     "data": {
      "application/vnd.jupyter.widget-view+json": {
       "model_id": "0984f5ad76b14367bbdf6673251e583a",
       "version_major": 2,
       "version_minor": 0
      },
      "text/plain": [
       "Training: 0it [00:00, ?it/s]"
      ]
     },
     "metadata": {},
     "output_type": "display_data"
    }
   ],
   "source": [
    "from kooplearn.models import ConsistentAE\n",
    "from lightning import Trainer\n",
    "\n",
    "trkw = {\n",
    "    'accelerator': 'gpu',\n",
    "    'devices': 1,\n",
    "    'max_epochs': configs.max_epochs,\n",
    "    \"enable_checkpointing\": False,\n",
    "    \"logger\": False,\n",
    "}\n",
    "\n",
    "trainer = Trainer(**trkw)\n",
    "\n",
    "model = ConsistentAE(\n",
    "    MLP,\n",
    "    MLP_r,\n",
    "    configs.layer_widths[-1],\n",
    "    opt, {'lr': 1e-3},\n",
    "    trainer,\n",
    "    encoder_kwargs={'feature_dim': np.prod(trail_dims), 'layer_widths': configs.layer_widths},\n",
    "    decoder_kwargs={'feature_dim': np.prod(trail_dims), 'layer_widths': configs.layer_widths, 'input_dims': trail_dims},\n",
    "    seed = configs.rng_seed\n",
    ")\n",
    "\n",
    "#Data for this\n",
    "cae_train = TrajToContextsDataset(train_ds.astype(np.float32), context_window_len=3)\n",
    "cae_dl = torch.utils.data.DataLoader(cae_train, batch_size = len(cae_train), shuffle = True)\n",
    "\n",
    "# Choose learning rate\n",
    "lr = tune_learning_rate(trainer, model, cae_dl)\n",
    "assert model.lightning_module.lr == lr  \n",
    "model.fit(cae_dl)\n",
    "\n",
    "# Evaluate Model\n",
    "RMSE['ConsistentAE'] = evaluate(model, exp_path, configs)"
   ]
  },
  {
   "cell_type": "markdown",
   "metadata": {},
   "source": [
    "## DPNets"
   ]
  },
  {
   "cell_type": "code",
   "execution_count": null,
   "metadata": {},
   "outputs": [
    {
     "name": "stderr",
     "output_type": "stream",
     "text": [
      "GPU available: True (cuda), used: True\n",
      "TPU available: False, using: 0 TPU cores\n",
      "IPU available: False, using: 0 IPUs\n",
      "HPU available: False, using: 0 HPUs\n",
      "Global seed set to 0\n"
     ]
    }
   ],
   "source": [
    "from kooplearn.models.feature_maps import DPNet\n",
    "\n",
    "trkw = {\n",
    "    'accelerator': 'gpu',\n",
    "    'devices': 1,\n",
    "    'max_epochs': configs.max_epochs,\n",
    "    \"enable_checkpointing\": False,\n",
    "    \"logger\": False,\n",
    "}\n",
    "\n",
    "trainer = Trainer(**trkw)\n",
    "\n",
    "fmap = DPNet(\n",
    "    MLP,\n",
    "    opt, {'lr': 1e-3},\n",
    "    trainer,\n",
    "    use_relaxed_loss=True,\n",
    "    encoder_kwargs={'feature_dim': np.prod(trail_dims), 'layer_widths': configs.layer_widths},\n",
    "    encoder_timelagged=MLP,\n",
    "    encoder_timelagged_kwargs={'feature_dim': np.prod(trail_dims), 'layer_widths': configs.layer_widths},\n",
    "    seed = configs.rng_seed\n",
    ")\n",
    "\n",
    "# Init\n",
    "_, _, Vh = np.linalg.svd(train_ds.reshape(train_ds.shape[0], -1), full_matrices=False)\n",
    "Vh = Vh.astype(np.float32)\n",
    "svd_init(fmap.lightning_module.encoder, trail_dims, Vh)\n",
    "svd_init(fmap.lightning_module.encoder_timelagged, trail_dims, Vh)"
   ]
  },
  {
   "cell_type": "code",
   "execution_count": null,
   "metadata": {},
   "outputs": [
    {
     "name": "stderr",
     "output_type": "stream",
     "text": [
      "LOCAL_RANK: 0 - CUDA_VISIBLE_DEVICES: [0,1]\n",
      "/home/novelli/anaconda3/envs/kooplearn/lib/python3.11/site-packages/lightning/pytorch/trainer/connectors/data_connector.py:442: PossibleUserWarning: The dataloader, train_dataloader, does not have many workers which may be a bottleneck. Consider increasing the value of the `num_workers` argument` (try 20 which is the number of cpus on this machine) in the `DataLoader` init to improve performance.\n",
      "  rank_zero_warn(\n"
     ]
    },
    {
     "data": {
      "application/vnd.jupyter.widget-view+json": {
       "model_id": "c415666d0dce4624ac197c2636a78b3a",
       "version_major": 2,
       "version_minor": 0
      },
      "text/plain": [
       "Finding best initial lr:   0%|          | 0/50 [00:00<?, ?it/s]"
      ]
     },
     "metadata": {},
     "output_type": "display_data"
    },
    {
     "name": "stderr",
     "output_type": "stream",
     "text": [
      "/home/novelli/anaconda3/envs/kooplearn/lib/python3.11/site-packages/lightning/pytorch/core/module.py:490: UserWarning: You called `self.log('train/relaxed_projection_score', ..., logger=True)` but have no logger configured. You can enable one by doing `Trainer(logger=ALogger(...))`\n",
      "  rank_zero_warn(\n",
      "/home/novelli/anaconda3/envs/kooplearn/lib/python3.11/site-packages/lightning/pytorch/core/module.py:490: UserWarning: You called `self.log('train/metric_deformation_loss', ..., logger=True)` but have no logger configured. You can enable one by doing `Trainer(logger=ALogger(...))`\n",
      "  rank_zero_warn(\n",
      "/home/novelli/anaconda3/envs/kooplearn/lib/python3.11/site-packages/lightning/pytorch/core/module.py:490: UserWarning: You called `self.log('train/total_loss', ..., logger=True)` but have no logger configured. You can enable one by doing `Trainer(logger=ALogger(...))`\n",
      "  rank_zero_warn(\n",
      "`Trainer.fit` stopped: `max_steps=50` reached.\n",
      "Learning rate set to 1.8197008586099834e-05\n",
      "Restoring states from the checkpoint path at /home/novelli/dp_examples/fluid/.lr_find_263dff34-9501-418b-9b03-2505b8fc8547.ckpt\n",
      "Restored all states from the checkpoint at /home/novelli/dp_examples/fluid/.lr_find_263dff34-9501-418b-9b03-2505b8fc8547.ckpt\n",
      "LOCAL_RANK: 0 - CUDA_VISIBLE_DEVICES: [0,1]\n",
      "\n",
      "  | Name               | Type | Params\n",
      "--------------------------------------------\n",
      "0 | encoder            | MLP  | 3.8 M \n",
      "1 | encoder_timelagged | MLP  | 3.8 M \n",
      "--------------------------------------------\n",
      "7.6 M     Trainable params\n",
      "0         Non-trainable params\n",
      "7.6 M     Total params\n",
      "30.593    Total estimated model params size (MB)\n"
     ]
    },
    {
     "name": "stdout",
     "output_type": "stream",
     "text": [
      "Fitting DPNet. Lookback window length set to 1\n"
     ]
    },
    {
     "data": {
      "application/vnd.jupyter.widget-view+json": {
       "model_id": "d181812b5eb7440586dfe0ddbd0ebfb0",
       "version_major": 2,
       "version_minor": 0
      },
      "text/plain": [
       "Training: 0it [00:00, ?it/s]"
      ]
     },
     "metadata": {},
     "output_type": "display_data"
    },
    {
     "name": "stderr",
     "output_type": "stream",
     "text": [
      "/home/novelli/anaconda3/envs/kooplearn/lib/python3.11/site-packages/lightning/pytorch/trainer/call.py:53: UserWarning: Detected KeyboardInterrupt, attempting graceful shutdown...\n",
      "  rank_zero_warn(\"Detected KeyboardInterrupt, attempting graceful shutdown...\")\n"
     ]
    }
   ],
   "source": [
    "#Choose learning rate\n",
    "lr = tune_learning_rate(trainer, fmap, torch_dl)\n",
    "assert fmap.lightning_module.lr == lr  \n",
    "fmap.fit(torch_dl)"
   ]
  },
  {
   "cell_type": "code",
   "execution_count": null,
   "metadata": {},
   "outputs": [],
   "source": [
    "from kooplearn.models import DeepEDMD\n",
    "model = DeepEDMD(fmap, rank=64, reduced_rank=False, tikhonov_reg=1e-6)\n",
    "model.fit(np_train, verbose=False)\n",
    "\n",
    "#Evaluate Model\n",
    "RMSE['DPNets'] = evaluate(model, exp_path, configs)"
   ]
  },
  {
   "cell_type": "code",
   "execution_count": null,
   "metadata": {},
   "outputs": [
    {
     "data": {
      "text/plain": [
       "<kooplearn.models.deepedmd.DeepEDMD at 0x7fe449866b10>"
      ]
     },
     "execution_count": 119,
     "metadata": {},
     "output_type": "execute_result"
    }
   ],
   "source": [
    "from kooplearn.models import DeepEDMD\n",
    "model = DeepEDMD(fmap, reduced_rank=False, rank=64,  svd_solver='full')\n",
    "model.fit(np_train, verbose=False)"
   ]
  },
  {
   "cell_type": "code",
   "execution_count": null,
   "metadata": {},
   "outputs": [
    {
     "data": {
      "text/plain": [
       "<matplotlib.legend.Legend at 0x7f5604cbd6d0>"
      ]
     },
     "execution_count": 50,
     "metadata": {},
     "output_type": "execute_result"
    },
    {
     "data": {
      "image/png": "[encoded data removed]",
      "text/plain": [
       "<Figure size 640x480 with 1 Axes>"
      ]
     },
     "metadata": {},
     "output_type": "display_data"
    }
   ],
   "source": [
    "import matplotlib.pyplot as plt\n",
    "\n",
    "fig, ax = plt.subplots()\n",
    "for model in RMSE:\n",
    "    ax.plot(RMSE[model], label = model)\n",
    "ax.set_yscale('log')\n",
    "ax.legend()"
   ]
  },
  {
   "cell_type": "code",
   "execution_count": null,
   "metadata": {},
   "outputs": [],
   "source": []
  }
 ],
 "metadata": {
  "kernelspec": {
   "display_name": "kooplearn",
   "language": "python",
   "name": "python3"
  },
  "language_info": {
   "codemirror_mode": {
    "name": "ipython",
    "version": 3
   },
   "file_extension": ".py",
   "mimetype": "text/x-python",
   "name": "python",
   "nbconvert_exporter": "python",
   "pygments_lexer": "ipython3",
   "version": "3.11.5"
  },
  "orig_nbformat": 4
 },
 "nbformat": 4,
 "nbformat_minor": 2
}
