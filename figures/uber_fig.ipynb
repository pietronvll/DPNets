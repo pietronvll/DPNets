{
 "cells": [
  {
   "cell_type": "code",
   "execution_count": 4,
   "metadata": {},
   "outputs": [],
   "source": [
    "import os\n",
    "from pathlib import Path\n",
    "import pickle\n",
    "import numpy as np\n",
    "import matplotlib.pyplot as plt\n",
    "import styling"
   ]
  },
  {
   "cell_type": "code",
   "execution_count": 5,
   "metadata": {},
   "outputs": [],
   "source": [
    "main_path = Path.cwd().parent"
   ]
  },
  {
   "cell_type": "code",
   "execution_count": 22,
   "metadata": {},
   "outputs": [],
   "source": [
    "#Collect all the data: it should be an array of dictionaries\n",
    "DATA = []"
   ]
  },
  {
   "cell_type": "markdown",
   "metadata": {},
   "source": [
    "##### Left Panel"
   ]
  },
  {
   "cell_type": "code",
   "execution_count": 19,
   "metadata": {},
   "outputs": [],
   "source": [
    "# Logistic map data\n",
    "results_path = main_path / 'logistic_map/results_training_loop_inspection/'\n",
    "os.listdir(results_path)\n",
    "_tmp = {}\n",
    "for filename in os.listdir(results_path):\n",
    "    model_name = filename.split('_')[0]\n",
    "    if model_name not in _tmp:\n",
    "        _tmp[model_name] = []\n",
    "    with open(results_path / filename, 'rb') as f:\n",
    "        restored = pickle.load(f)\n",
    "    _tmp[model_name].append(restored)\n",
    "\n",
    "LOGISTIC = {}\n",
    "for model_name, model_data in _tmp.items():\n",
    "    LOGISTIC[model_name] = {\n",
    "        'x': np.arange(len(model_data)),\n",
    "        'data': np.array(model_data).mean(axis=0)\n",
    "    }\n",
    "\n",
    "# Continuous dynamics data\n",
    "with open(main_path / 'langevin.pkl', 'rb') as f:\n",
    "    restored_obj = pickle.load(f)\n",
    "LANGEVIN = {\n",
    "    'x': restored_obj['step'],\n",
    "    'data': restored_obj['eigenvalues'],\n",
    "    'hlines': np.squeeze(restored_obj['reference'])\n",
    "}\n",
    "\n",
    "DATA.append([LOGISTIC, LANGEVIN])"
   ]
  },
  {
   "cell_type": "markdown",
   "metadata": {},
   "source": [
    "#### Middle Panel"
   ]
  },
  {
   "cell_type": "code",
   "execution_count": 32,
   "metadata": {},
   "outputs": [],
   "source": [
    "# Ordered MNIST data\n",
    "reports = {}\n",
    "exp_path = main_path / \"ordered_MNIST/results/\"\n",
    "for file in os.listdir(exp_path):\n",
    "    if file.endswith(\".pkl\"):\n",
    "        with open(exp_path / file, \"rb\") as f:\n",
    "            restored_report = pickle.load(f)\n",
    "            model_name = restored_report.pop(\"name\")\n",
    "            reports[model_name] = restored_report\n",
    "\n",
    "ORDERED_MNIST = {}\n",
    "for model_name, report in reports.items():\n",
    "    ORDERED_MNIST[model_name] = {\n",
    "        \"data\": np.asanyarray(report[\"accuracy\"]),\n",
    "    }\n",
    "ORDERED_MNIST[\"hlines\"] = 0.2\n",
    "\n",
    "# Fluid Flow data DUMMY DATA\n",
    "FLUID_FLOW = {\n",
    "    \"DPNets\": {\n",
    "        \"data\": np.random.rand(10),\n",
    "    },\n",
    "    \"DPNets-relaxed\": {\n",
    "        \"data\": np.random.rand(10),\n",
    "    },\n",
    "    \"VAMPNets\": {\n",
    "        \"data\": np.random.rand(10),\n",
    "    }\n",
    "}"
   ]
  },
  {
   "cell_type": "markdown",
   "metadata": {},
   "source": [
    "#### Right Panel"
   ]
  },
  {
   "cell_type": "code",
   "execution_count": null,
   "metadata": {},
   "outputs": [],
   "source": [
    "from KDEpy import FFTKDE\n",
    "def free_energy_surface(model_stub: str, eig_idx, bw = 'silverman'):\n",
    "    lfns = report[model_stub]['left_fns']\n",
    "    rfns = report[model_stub]['right_fns']\n",
    "    lfns = lfns.real\n",
    "    rfns = rfns.real\n",
    "\n",
    "    eig = report[model_stub]['eigenvalues']\n",
    "    lfn = lfns[:, eig_idx]\n",
    "    rfn = rfns[:, eig_idx]\n",
    "\n",
    "    #boltzmann_dist = np.where(lfns[:, 0]>0, lfns[:, 0], 1e-8)\n",
    "\n",
    "    if lfn.ndim == 1:\n",
    "        pass\n",
    "        #lfn = lfn/boltzmann_dist #Normalization\n",
    "    elif lfn.ndim == 2:\n",
    "        pass\n",
    "        #lfn = lfn/boltzmann_dist[:, None] #Normalization\n",
    "    else:\n",
    "        raise ValueError(\"Only 1 or 2 eigenvalue indices are supported\")\n",
    "    x, kde = FFTKDE(bw=bw).fit(lfn).evaluate(2**8) #256 bins\n",
    "    fesl = -np.log(kde)\n",
    "    x, kde = FFTKDE(bw=bw).fit(rfn).evaluate(2**8) #256 bins\n",
    "    fesr = -np.log(kde)\n",
    "    return x, fesl, fesr\n",
    "\n",
    "free_energy_surface(model, eig_idx, bw = bw[ax_idx])"
   ]
  }
 ],
 "metadata": {
  "kernelspec": {
   "display_name": "kooplearn",
   "language": "python",
   "name": "python3"
  },
  "language_info": {
   "codemirror_mode": {
    "name": "ipython",
    "version": 3
   },
   "file_extension": ".py",
   "mimetype": "text/x-python",
   "name": "python",
   "nbconvert_exporter": "python",
   "pygments_lexer": "ipython3",
   "version": "3.11.5"
  },
  "orig_nbformat": 4
 },
 "nbformat": 4,
 "nbformat_minor": 2
}
