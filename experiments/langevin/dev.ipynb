{
 "cells": [
  {
   "cell_type": "code",
   "execution_count": 5,
   "metadata": {},
   "outputs": [],
   "source": [
    "import pandas as pd\n",
    "from pathlib import Path\n",
    "import numpy as np"
   ]
  },
  {
   "cell_type": "code",
   "execution_count": 6,
   "metadata": {},
   "outputs": [],
   "source": [
    "model_path = Path.cwd()"
   ]
  },
  {
   "cell_type": "code",
   "execution_count": 7,
   "metadata": {},
   "outputs": [],
   "source": [
    "def load_data(model_path: Path, split = 'train'):\n",
    "    data_file = model_path / 'data' / '100k.h5'  \n",
    "    with pd.HDFStore(data_file) as storedata:\n",
    "        data = storedata['data'].to_numpy()\n",
    "        metadata = storedata.get_storer('data').attrs.metadata\n",
    "    data = np.asarray(data)\n",
    "    length = data.shape[0]\n",
    "    train_size = int(length*0.7)\n",
    "    eval_size = int(length*0.1)\n",
    "    train_idx = np.arange(0, train_size)\n",
    "    eval_idx = np.arange(train_size, train_size + eval_size)\n",
    "    test_idx = np.arange(train_size + eval_size, length)\n",
    "    if split == 'train':\n",
    "        return data[train_idx], metadata\n",
    "    elif split == 'val':\n",
    "        return data[eval_idx], metadata\n",
    "    elif split == 'test':\n",
    "        return data[test_idx], metadata\n",
    "    else:\n",
    "        raise ValueError(f\"split must be one of ['train', 'val', 'test'], got {split}\")"
   ]
  },
  {
   "cell_type": "code",
   "execution_count": 9,
   "metadata": {},
   "outputs": [],
   "source": [
    "data, meta = load_data(model_path)"
   ]
  },
  {
   "cell_type": "code",
   "execution_count": 12,
   "metadata": {},
   "outputs": [],
   "source": [
    "import torch\n",
    "import torch.nn as nn\n",
    "\n",
    "class MLP(nn.Module):\n",
    "    def __init__(self, layer_widths):\n",
    "        super(MLP, self).__init__()\n",
    "        self.layer_widths = layer_widths\n",
    "        self.layers = nn.ModuleList([nn.Linear(layer_widths[i], layer_widths[i+1]) for i in range(len(layer_widths)-1)])\n",
    "        self.activation = nn.CELU()\n",
    "\n",
    "    def forward(self, x):\n",
    "        for i, layer in enumerate(self.layers):\n",
    "            x = layer(x)\n",
    "            if i != len(self.layers) - 1:\n",
    "                x = self.activation(x)\n",
    "        return x\n"
   ]
  },
  {
   "cell_type": "code",
   "execution_count": null,
   "metadata": {},
   "outputs": [],
   "source": []
  }
 ],
 "metadata": {
  "kernelspec": {
   "display_name": "kooplearn",
   "language": "python",
   "name": "python3"
  },
  "language_info": {
   "codemirror_mode": {
    "name": "ipython",
    "version": 3
   },
   "file_extension": ".py",
   "mimetype": "text/x-python",
   "name": "python",
   "nbconvert_exporter": "python",
   "pygments_lexer": "ipython3",
   "version": "3.11.5"
  }
 },
 "nbformat": 4,
 "nbformat_minor": 2
}
