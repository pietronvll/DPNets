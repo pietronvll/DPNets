{
 "cells": [
  {
   "cell_type": "code",
   "execution_count": null,
   "metadata": {},
   "outputs": [],
   "source": [
    "import matplotlib.pyplot as plt\n",
    "import pnstyler.styler as styler\n",
    "from runner import load_data, main_path\n",
    "import ml_confs\n",
    "from pathlib import Path\n",
    "import numpy as np\n",
    "import os\n",
    "import pickle"
   ]
  },
  {
   "cell_type": "code",
   "execution_count": null,
   "metadata": {},
   "outputs": [],
   "source": [
    "configs = ml_confs.from_file(main_path / 'experiments/fluid/configs.yaml')\n",
    "exp_path = Path(main_path / 'experiments/fluid')\n",
    "results_path = exp_path / 'results/'\n",
    "with np.load(exp_path / \"data/cylinder2d_remesh.npz\") as f:\n",
    "    full_data = {k: np.asarray(v) for k, v in f.items()}"
   ]
  },
  {
   "cell_type": "code",
   "execution_count": null,
   "metadata": {},
   "outputs": [],
   "source": [
    "fig, axes = plt.subplots(1, 2, figsize = styler.figsize(width_to_height=3))\n",
    "\n",
    "cmap = 'Spectral'\n",
    "streamplot_args = {\n",
    "    'color':(0, 0, 0, 0.2), #RGBA tuple for the color of the streamlines 0.5 alpha black \n",
    "    'density':1.5, \n",
    "    'linewidth':0.5, \n",
    "    'arrowsize':0.5, \n",
    "    'arrowstyle':'->'\n",
    "}\n",
    "ax_args = {\n",
    "    'xticks': [],\n",
    "    'yticks': [],\n",
    "    'aspect': 'equal',\n",
    "    'ymargin': 0\n",
    "}\n",
    "\n",
    "for ax_idx, t_idx in enumerate([50, 100]):\n",
    "    X = full_data['x']\n",
    "    Y = full_data['y']\n",
    "    C = full_data['C'][..., t_idx] \n",
    "    U = full_data['U'][..., t_idx]\n",
    "    V = full_data['V'][..., t_idx]\n",
    "    ax = axes[ax_idx]\n",
    "    contour = ax.contourf(X, Y, C, 200, cmap=cmap)\n",
    "    field = ax.streamplot(X, Y, U, V, **streamplot_args)\n",
    "    ax.set(**ax_args)\n",
    "    # Plot a full black circle of radius 0.5\n",
    "    theta = np.linspace(0, 2*np.pi, 100)\n",
    "    r = 0.45\n",
    "    ax.plot(r*np.cos(theta), r*np.sin(theta), 'k') \n",
    "    ax.fill_between(r*np.cos(theta), r*np.sin(theta), color='k')\n",
    "fig.savefig('fluid_flow_dynamics.png', bbox_inches='tight', dpi=300)"
   ]
  },
  {
   "cell_type": "code",
   "execution_count": null,
   "metadata": {},
   "outputs": [],
   "source": [
    "os.listdir(results_path)\n",
    "_tmp = {}\n",
    "for filename in os.listdir(results_path):\n",
    "    model_name = filename.split('_')[0]\n",
    "    if model_name not in _tmp:\n",
    "        _tmp[model_name] = []\n",
    "    with open(results_path / filename, 'rb') as f:\n",
    "        restored = pickle.load(f)\n",
    "    if restored is not None:\n",
    "        _tmp[model_name].append(restored)\n",
    "\n",
    "FLUID_FLOW = {}\n",
    "_fluid_flow_std = 0.16754142\n",
    "for model_name, model_data in _tmp.items():\n",
    "    if len(model_data) > 0:\n",
    "        FLUID_FLOW[model_name] = {\n",
    "            'data': np.array(model_data).mean(axis=0)/_fluid_flow_std\n",
    "        }"
   ]
  },
  {
   "cell_type": "code",
   "execution_count": null,
   "metadata": {},
   "outputs": [],
   "source": [
    "FLUID_FLOW"
   ]
  },
  {
   "cell_type": "code",
   "execution_count": null,
   "metadata": {},
   "outputs": [],
   "source": [
    "fig, ax = plt.subplots()\n",
    "for model_name in FLUID_FLOW.keys():\n",
    "    model_data = FLUID_FLOW[model_name]\n",
    "    ax.plot(model_data['data'], label=model_name)\n",
    "ax.legend()\n",
    "ax.set_yscale('log')\n"
   ]
  }
 ],
 "metadata": {
  "kernelspec": {
   "display_name": "kooplearn",
   "language": "python",
   "name": "python3"
  },
  "language_info": {
   "codemirror_mode": {
    "name": "ipython",
    "version": 3
   },
   "file_extension": ".py",
   "mimetype": "text/x-python",
   "name": "python",
   "nbconvert_exporter": "python",
   "pygments_lexer": "ipython3",
   "version": "3.11.4"
  }
 },
 "nbformat": 4,
 "nbformat_minor": 2
}
